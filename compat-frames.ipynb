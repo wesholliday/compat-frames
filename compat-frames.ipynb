{
 "cells": [
  {
   "cell_type": "markdown",
   "id": "74ef41a1",
   "metadata": {},
   "source": [
    "This notebook is a supplement to the paper \"Compatibility and accessibility: lattice representations for semantics of non-classical and modal logic\" (https://arxiv.org/abs/2201.07098) by Wesley H. Holliday (wesholliday@berkeley.edu).\n",
    "\n",
    "To view the notebook online, type the URL of this notebook (https://github.com/wesholliday/compat-frames/blob/main/compat-frames.ipynb) into the location field at https://nbviewer.org. GitHub's preview of the notebook does not show all the output that was generated.\n",
    "\n",
    "\n",
    "# Notebook Outline\n",
    "\n",
    "## I. [Supplement to Section 2](#I)\n",
    "\n",
    "**I.I [Drawing compatibility frames](#I.I)**\n",
    "\n",
    "**I.II [Calculating fixpoints of the closure operator](#I.II)**\n",
    "\n",
    "**I.III [Hasse diagrams of the fixpoint lattices](#I.III)**\n",
    "\n",
    "**I.IV [Generating compatibility frames up to isomorphism](#I.IV)**\n",
    "\n",
    "**I.V [Generating fixpoint lattices up to isomorphism](#I.V)**\n",
    "\n",
    "This section already verifies the part of Conjecture 3.13 in the paper for lattices of size $\\leq 8$.\n",
    "\n",
    "**I.VI [The $\\neg_\\vartriangleleft$ operation](#I.V)**\n",
    "\n",
    "\n",
    "## II. [Supplement to Section 3.1](#II)\n",
    "\n",
    "**II.I [The compatibility relation of Def. 3.5(i)](#II.1)**\n",
    "\n",
    "**II.II [Finding join-irreducibles in the fixpoint lattice](#II.II)**\n",
    "\n",
    "**II.III [Generating anti-inflationary functions](#II.III)**\n",
    "\n",
    "**II.IV [Checking whether lattices can be represented as in Def. 3.5(i)](#II.IV)**\n",
    "\n",
    "**II.V [Checking whether a lattice can be represented as in Def. 3.5(i) for a given $\\neg$ and/or $\\mathrm{V}$](#II.V)**\n",
    "\n",
    "**II.VI [All lattices of size $\\leq 8$ can be represented as in Def. 3.5(i)](#II.VI)**\n",
    "\n",
    "**II.VII [Verification of Conjecture 3.13 for lattices of size $\\leq 15$](#II.VII)**\n",
    "\n",
    "\n",
    "## III. [Supplement to Appendix A.1](#III)\n",
    "\n",
    "**III.I [Generating protocomplementations](#III.I)**\n",
    "\n",
    "**III.II [Lattices for which no protocomplementation makes the representation of Def. 3.5(i) apply](#III.II)**\n",
    "\n",
    "**III.III [Checking whether $(𝐿,¬)$ can arise from a compatibiltiy frame](#III.III)**"
   ]
  },
  {
   "cell_type": "markdown",
   "id": "3c6d6cb0",
   "metadata": {},
   "source": [
    "### Preliminaries"
   ]
  },
  {
   "cell_type": "code",
   "execution_count": 1,
   "id": "89a08c4f",
   "metadata": {},
   "outputs": [],
   "source": [
    "from itertools import chain, combinations, product\n",
    "import copy\n",
    "import networkx as nx\n",
    "import networkx.algorithms.isomorphism as iso\n",
    "import matplotlib.pyplot as plt\n",
    "import pickle\n",
    "from pprint import pprint\n",
    "from tqdm.notebook import tqdm\n",
    "from functools import partial"
   ]
  },
  {
   "cell_type": "code",
   "execution_count": 2,
   "id": "634d2ae7",
   "metadata": {},
   "outputs": [],
   "source": [
    "def powerset(iterable):\n",
    "    \"\"\"powerset([1,2,3]) --> () (1,) (2,) (3,) (1,2) (1,3) (2,3) (1,2,3)\"\"\"\n",
    "    s = list(iterable)\n",
    "    return chain.from_iterable(combinations(s, r) for r in range(len(s)+1))"
   ]
  },
  {
   "cell_type": "markdown",
   "id": "969cfbf2",
   "metadata": {},
   "source": [
    "# I. Supplement to Section 2 <a id='I'></a>"
   ]
  },
  {
   "cell_type": "markdown",
   "id": "1bdccd88",
   "metadata": {},
   "source": [
    "## I.I Drawing compatibility frames <a id='I.I'></a>\n",
    "\n",
    "According to Convention 2.2 in the paper, to represent the compatibility frame $(X,\\vartriangleleft)$, we draw an arrow from $y$ to $x$ when $x\\vartriangleleft y$. Thus, we draw the directed graph $(X,\\vartriangleright)$ to represent the compatibility frame $(X,\\vartriangleleft)$. Reflexive loops are not drawn."
   ]
  },
  {
   "cell_type": "code",
   "execution_count": 3,
   "id": "d7aa0c72",
   "metadata": {},
   "outputs": [],
   "source": [
    "def domain(rel):\n",
    "    \"\"\"given a reflexive relation, returns the domain of the relation\"\"\"\n",
    "    X = {pair[0] for pair in rel}\n",
    "    \n",
    "    return X"
   ]
  },
  {
   "cell_type": "code",
   "execution_count": 4,
   "id": "aab25b98",
   "metadata": {},
   "outputs": [],
   "source": [
    "def draw_flipped_digraph(rel,X = None):\n",
    "    \"\"\"given a relation rel on X, draw the digraph (with no loops) for the inverse of rel;\n",
    "    if no X is given, we assume rel is reflexive and take X to be the domain of rel\"\"\"\n",
    "    \n",
    "    if X is None:\n",
    "        X = domain(rel)\n",
    "    \n",
    "    g = nx.DiGraph()\n",
    "    g.add_nodes_from(X)\n",
    "    \n",
    "    for pair in rel:\n",
    "        if not pair[0] == pair[1]:\n",
    "            g.add_edge(pair[1],pair[0])\n",
    "    \n",
    "    nx.draw(g)\n",
    "    plt.show() "
   ]
  },
  {
   "cell_type": "markdown",
   "id": "377fdac7",
   "metadata": {},
   "source": [
    "## I.II Calculating fixpoints of the closure operator <a id='I.II'></a>"
   ]
  },
  {
   "cell_type": "code",
   "execution_count": 5,
   "id": "e1842040",
   "metadata": {},
   "outputs": [],
   "source": [
    "def closure(A,rel,X = None):\n",
    "    \"\"\"given a subset A of X, returns the closure of A according to the closure operator\n",
    "    c_rel defined in Def. 2.4 of the paper from the given relation rel on X;\n",
    "    if no X is given, we assume rel is reflexive and take X to be the domain of rel\"\"\"\n",
    "\n",
    "    if X is None:\n",
    "        X = domain(rel)\n",
    "    \n",
    "    Aset = set(A)\n",
    "    Xset = set(X)\n",
    "    closure = [x for x in A]\n",
    "   \n",
    "    for x in Xset - Aset:\n",
    "        x_sees = {y for y in X if (y,x) in rel}\n",
    "        seen_by_A = {z for z in X if any([pair[0]==z and pair[1] in Aset for pair in rel])}\n",
    "        if x_sees.issubset(seen_by_A):\n",
    "            closure.append(x)\n",
    "        \n",
    "    return closure"
   ]
  },
  {
   "cell_type": "markdown",
   "id": "0c1d3678",
   "metadata": {},
   "source": [
    "For small compatibility frames, we can simply check for each subset whether it is a fixpoint of the closure operator."
   ]
  },
  {
   "cell_type": "code",
   "execution_count": 6,
   "id": "594815ee",
   "metadata": {},
   "outputs": [],
   "source": [
    "def fixpoints(rel,X = None):\n",
    "    \"\"\"given a binary relation rel on X, returns the fixpoints of c_rel according to Def. 2.4 in the paper\"\"\"\n",
    "\n",
    "    if X is None:\n",
    "        X = domain(rel)\n",
    "    \n",
    "    fixpts = [(), tuple(X)]\n",
    "    \n",
    "    pwrset = powerset(X)\n",
    "\n",
    "    for A in pwrset:\n",
    "        if A == () or A == tuple(X):\n",
    "            continue\n",
    "            \n",
    "        if A == tuple(closure(A,rel,X)):\n",
    "            fixpts.append(A)\n",
    "\n",
    "    return fixpts"
   ]
  },
  {
   "cell_type": "markdown",
   "id": "430e422e",
   "metadata": {},
   "source": [
    "To handle larger compatibility frames, we can use Ganter's algorithm to calculate fixpoints of a closure operator (Ganter B. (2010), \"Two Basic Algorithms in Concept Analysis.\" In: Kwuida L., Sertkaya B. (eds) Formal Concept Analysis. ICFCA 2010. *Lecture Notes in Computer Science*, vol 5986. Springer, Berlin, Heidelberg. https://doi.org/10.1007/978-3-642-11928-6_22). \n",
    "\n",
    "Ganter's algorithm assumes a closure operator on the powerset of a set $X$ where $X$ is an initial segment of the natural numbers (or otherwise linearly ordered). Thus, we include a function to convert a given compatibility frame to an isomorphic copy whose domain is an initial segment of the natural numbers."
   ]
  },
  {
   "cell_type": "code",
   "execution_count": 7,
   "id": "a76da30d",
   "metadata": {},
   "outputs": [],
   "source": [
    "def convert_to_nums(rel, X = None):\n",
    "    \"\"\"Given a compatibility frame, return an isomorphic copy\n",
    "    whose domain is an initial segment of the natural numbers plus\n",
    "    a dictionary to go back from natural numbers to the original elements\"\"\"\n",
    "    \n",
    "    if X is None:\n",
    "        X = domain(rel)\n",
    "    \n",
    "    forward_map = {}\n",
    "    inverse_map = {}\n",
    "    count = 0\n",
    "    \n",
    "    for x in X:\n",
    "        forward_map[x] = count\n",
    "        inverse_map[count] = x\n",
    "        count += 1   \n",
    "    \n",
    "    newrel = []\n",
    "    \n",
    "    for pair in rel:\n",
    "        newrel.append((forward_map[pair[0]],forward_map[pair[1]]))\n",
    "    \n",
    "    return newrel, inverse_map"
   ]
  },
  {
   "cell_type": "markdown",
   "id": "3e026a4e",
   "metadata": {},
   "source": [
    "We implement the algorithm on p. 316 of Ganter's paper with the following two functions."
   ]
  },
  {
   "cell_type": "code",
   "execution_count": 8,
   "id": "bed126d1",
   "metadata": {},
   "outputs": [],
   "source": [
    "def next_fixpoint(A, rel, X = None):\n",
    "    \"\"\"Given a compatibility frame rel on an initial segment of the natural numbers\n",
    "    and a subset A, assumed to be a fixpoint, calculate the next fixpoint\n",
    "    according to Ganter's lectic ordering\"\"\"\n",
    "    \n",
    "    if X is None:\n",
    "        X = domain(rel)\n",
    "        \n",
    "    Aset = set(A)\n",
    "    \n",
    "    for i in reversed(X):\n",
    "        if not i in Aset:\n",
    "            iset = set(range(i))\n",
    "            inter = Aset.intersection(iset)\n",
    "            union = inter.union({i})\n",
    "            Anext = closure(union, rel, X)\n",
    "            if [j for j in Anext if j<i and not j in Aset] == []:\n",
    "                return tuple(Anext)  "
   ]
  },
  {
   "cell_type": "code",
   "execution_count": 9,
   "id": "6fdc1ca8",
   "metadata": {},
   "outputs": [],
   "source": [
    "def Ganter_fixpoints(rel, X = None):\n",
    "    \"\"\"Given a compatibility frame rel, return the fixpoints according to Ganter's algorithm;\n",
    "    if rel is not already on an initial segment of the natural numbers, \n",
    "    apply convert_to_nums in order to run next_fixpoint and then apply \n",
    "    the inverse map to get corresponding fixpoints for the original rel\"\"\"\n",
    "    \n",
    "    if X is None:\n",
    "        X = domain(rel)\n",
    "        \n",
    "    if tuple(X) == tuple(range(len(X))):\n",
    "        \n",
    "        setX = set(X)\n",
    "        listX = list(X)\n",
    "    \n",
    "        fixpts = [()]\n",
    "        A = ()\n",
    "    \n",
    "        while not set(A) == setX:\n",
    "            A_next = next_fixpoint(A,rel,listX)\n",
    "            A = A_next\n",
    "            fixpts.append(A_next)\n",
    "        \n",
    "        return fixpts\n",
    "    \n",
    "    else:\n",
    "        conv = convert_to_nums(rel, X)\n",
    "        newrel = conv[0]\n",
    "        inverse = conv[1]\n",
    "        newX = domain(newrel)\n",
    "        \n",
    "        setX = set(newX)\n",
    "        listX = list(newX)\n",
    "        \n",
    "        fixpts = [()]\n",
    "        A = ()\n",
    "    \n",
    "        while not set(A) == setX:\n",
    "            A_next = next_fixpoint(A,newrel,listX)\n",
    "            A = A_next\n",
    "            A_next_inverse = tuple({inverse[a] for a in A_next})\n",
    "            fixpts.append(A_next_inverse)\n",
    "        \n",
    "        return fixpts"
   ]
  },
  {
   "cell_type": "markdown",
   "id": "4aebc6a5",
   "metadata": {},
   "source": [
    "### Examples"
   ]
  },
  {
   "cell_type": "code",
   "execution_count": 10,
   "id": "fab236e3",
   "metadata": {},
   "outputs": [],
   "source": [
    "# when defining compatibility frames, \n",
    "# in order to avoid entering pairs (x,x) manually, we use the following:\n",
    "\n",
    "def reflexive_closure(rel,X):\n",
    "    \"\"\"given a binary relation rel on X, returns the reflexive closure of rel\"\"\"\n",
    "    relset = set(rel)\n",
    "\n",
    "    for x in X:\n",
    "        if not (x,x) in relset:\n",
    "            rel.append((x,x))\n",
    "    return rel"
   ]
  },
  {
   "cell_type": "code",
   "execution_count": 11,
   "id": "529c898d",
   "metadata": {},
   "outputs": [
    {
     "name": "stdout",
     "output_type": "stream",
     "text": [
      "Fig. 1, left:\n"
     ]
    },
    {
     "data": {
      "image/png": "[encoded data removed]",
      "text/plain": [
       "<Figure size 432x288 with 1 Axes>"
      ]
     },
     "metadata": {},
     "output_type": "display_data"
    },
    {
     "name": "stdout",
     "output_type": "stream",
     "text": [
      "compatibility frame: [(0, 1), (1, 2), (2, 0), (0, 0), (1, 1), (2, 2)]\n",
      "fixpoints: [(), (0, 1, 2), (0,), (1,), (2,)]\n",
      "\n",
      "\n",
      "Fig. 1, right:\n"
     ]
    },
    {
     "data": {
      "image/png": "[encoded data removed]",
      "text/plain": [
       "<Figure size 432x288 with 1 Axes>"
      ]
     },
     "metadata": {},
     "output_type": "display_data"
    },
    {
     "name": "stdout",
     "output_type": "stream",
     "text": [
      "compatibility frame: [(1, 0), (2, 1), (0, 0), (1, 1), (2, 2)]\n",
      "fixpoints: [(), (0, 1, 2), (0,), (2,), (1, 2)]\n",
      "\n",
      "\n",
      "Fig. 2:\n"
     ]
    },
    {
     "data": {
      "image/png": "[encoded data removed]",
      "text/plain": [
       "<Figure size 432x288 with 1 Axes>"
      ]
     },
     "metadata": {},
     "output_type": "display_data"
    },
    {
     "name": "stdout",
     "output_type": "stream",
     "text": [
      "compatibility frame: [(1, 0), (2, 1), (2, 0), (0, 0), (1, 1), (2, 2)]\n",
      "fixpoints: [(), (0, 1, 2), (2,), (1, 2)]\n",
      "\n",
      "\n",
      "Fig. 3, left:\n"
     ]
    },
    {
     "data": {
      "image/png": "[encoded data removed]",
      "text/plain": [
       "<Figure size 432x288 with 1 Axes>"
      ]
     },
     "metadata": {},
     "output_type": "display_data"
    },
    {
     "name": "stdout",
     "output_type": "stream",
     "text": [
      "compatibility frame: [(0, 1), (1, 0), (1, 2), (2, 1), (2, 3), (3, 2), (3, 0), (0, 3), (0, 0), (1, 1), (2, 2), (3, 3)]\n",
      "fixpoints: [(), (0, 1, 2, 3), (0,), (1,), (2,), (3,)]\n",
      "\n",
      "\n",
      "Fig. 3, right:\n"
     ]
    },
    {
     "data": {
      "image/png": "[encoded data removed]",
      "text/plain": [
       "<Figure size 432x288 with 1 Axes>"
      ]
     },
     "metadata": {},
     "output_type": "display_data"
    },
    {
     "name": "stdout",
     "output_type": "stream",
     "text": [
      "compatibility frame: [(0, 1), (1, 0), (1, 2), (2, 1), (2, 3), (3, 2), (0, 0), (1, 1), (2, 2), (3, 3)]\n",
      "fixpoints: [(), (0, 1, 2, 3), (0,), (3,), (0, 1), (2, 3)]\n",
      "\n",
      "\n",
      "Fig. 6:\n"
     ]
    },
    {
     "data": {
      "image/png": "[encoded data removed]",
      "text/plain": [
       "<Figure size 432x288 with 1 Axes>"
      ]
     },
     "metadata": {},
     "output_type": "display_data"
    },
    {
     "name": "stdout",
     "output_type": "stream",
     "text": [
      "compatibility frame: [(0, 1), (1, 0), (1, 2), (2, 1), (2, 3), (3, 2), (3, 4), (4, 3), (0, 0), (1, 1), (2, 2), (3, 3), (4, 4)]\n",
      "fixpoints: [(), (0, 1, 2, 3, 4), (0,), (2,), (4,), (0, 1), (0, 4), (3, 4), (0, 1, 2), (2, 3, 4)]\n",
      "\n",
      "\n",
      "Fig. A.1:\n"
     ]
    },
    {
     "data": {
      "image/png": "[encoded data removed]",
      "text/plain": [
       "<Figure size 432x288 with 1 Axes>"
      ]
     },
     "metadata": {},
     "output_type": "display_data"
    },
    {
     "name": "stdout",
     "output_type": "stream",
     "text": [
      "compatibility frame: [(0, 3), (1, 3), (3, 1), (2, 3), (3, 2), (0, 0), (1, 1), (2, 2), (3, 3)]\n",
      "fixpoints: [(), (0, 1, 2, 3), (0,), (1,), (2,), (0, 1), (0, 2), (1, 2)]\n",
      "\n",
      "\n",
      "Another example not in the paper:\n"
     ]
    },
    {
     "data": {
      "image/png": "[encoded data removed]",
      "text/plain": [
       "<Figure size 432x288 with 1 Axes>"
      ]
     },
     "metadata": {},
     "output_type": "display_data"
    },
    {
     "name": "stdout",
     "output_type": "stream",
     "text": [
      "compatibility frame: [(1, 0), (1, 2), (2, 1), (0, 3), (3, 0), (3, 1), (2, 3), (0, 0), (1, 1), (2, 2), (3, 3)]\n",
      "fixpoints: [(), (0, 1, 2, 3), (0,), (2,), (3,), (1, 2)]\n",
      "\n",
      "\n"
     ]
    }
   ],
   "source": [
    "# below we reproduce all examples from figures in the paper:\n",
    "\n",
    "exs = {0: (\"Fig. 1, left:\",reflexive_closure([(0,1),(1,2),(2,0)],range(3))), \n",
    "       1: (\"Fig. 1, right:\",reflexive_closure([(1,0),(2,1)],range(3))),\n",
    "       2: (\"Fig. 2:\",reflexive_closure([(1,0),(2,1),(2,0)],range(3))),\n",
    "       3: (\"Fig. 3, left:\",reflexive_closure([(0,1),(1,0),(1,2),(2,1),(2,3),(3,2),(3,0),(0,3)],range(4))),\n",
    "       4: (\"Fig. 3, right:\",reflexive_closure([(0,1),(1,0),(1,2),(2,1),(2,3),(3,2)],range(4))),\n",
    "       5: (\"Fig. 6:\",reflexive_closure([(0,1),(1,0), (1,2), (2,1), (2,3), (3,2),(3,4),(4,3)],range(5))),\n",
    "       6: (\"Fig. A.1:\",reflexive_closure([(0,3), (1,3), (3,1), (2,3), (3,2)],range(4))),\n",
    "       7: (\"Another example not in the paper:\",reflexive_closure([(1,0),(1,2),(2,1),(0,3),(3,0),(3,1),(2,3)],range(4)))\n",
    "      }\n",
    "   \n",
    "for i in range(8):\n",
    "    print(exs.get(i)[0])\n",
    "    draw_flipped_digraph(exs.get(i)[1])\n",
    "    print(f\"compatibility frame: {exs.get(i)[1]}\")\n",
    "    print(f\"fixpoints: {fixpoints(exs.get(i)[1])}\")\n",
    "    print(\"\\n\")\n",
    "    \n",
    "# saving the last example for later:\n",
    "\n",
    "example_rel = reflexive_closure([(1,0),(1,2),(2,1),(0,3),(3,0),(3,1),(2,3)],range(4))\n",
    "example_fixpts = fixpoints(example_rel)"
   ]
  },
  {
   "cell_type": "markdown",
   "id": "7db2cc19",
   "metadata": {},
   "source": [
    "## I.III Hasse diagrams of the fixpoint lattices <a id='I.III'></a>\n",
    "\n",
    "Given a family of fixpoints, we first calculate the proper subset relation between fixpoints, then calculate the associated covering relation, and finally create a networkx digraph for the Hasse diagram of the fixpoint lattice."
   ]
  },
  {
   "cell_type": "code",
   "execution_count": 12,
   "id": "a7e03f53",
   "metadata": {},
   "outputs": [],
   "source": [
    "def propsubrel(lt):\n",
    "    \"\"\"given a list of tuples representing a set of sets, returns the proper subset relation as a list of pairs\"\"\"\n",
    "    propsubrel = []\n",
    "    \n",
    "    for A in lt:\n",
    "        for B in lt:  \n",
    "            if set(A).issubset(set(B)) and not set(B).issubset(set(A)):\n",
    "                propsubrel.append((A,B))\n",
    "                \n",
    "    return propsubrel"
   ]
  },
  {
   "cell_type": "code",
   "execution_count": 13,
   "id": "543eb68f",
   "metadata": {},
   "outputs": [
    {
     "name": "stdout",
     "output_type": "stream",
     "text": [
      "[((), (0, 1, 2, 3)), ((), (0,)), ((), (2,)), ((), (3,)), ((), (1, 2)), ((0,), (0, 1, 2, 3)), ((2,), (0, 1, 2, 3)), ((2,), (1, 2)), ((3,), (0, 1, 2, 3)), ((1, 2), (0, 1, 2, 3))]\n"
     ]
    }
   ],
   "source": [
    "print(propsubrel(example_fixpts))"
   ]
  },
  {
   "cell_type": "code",
   "execution_count": 14,
   "id": "995e81b9",
   "metadata": {},
   "outputs": [],
   "source": [
    "def covering(spo):\n",
    "    \"\"\"given a strict partial order spo, returns the associated covering relation\"\"\"\n",
    "    cover = copy.deepcopy(spo)\n",
    "    for p1 in spo:\n",
    "        for p2 in spo:\n",
    "            if p1 in cover and p1[0] == p2[0] and (p2[1],p1[1]) in spo:\n",
    "                cover.remove(p1)\n",
    "                break\n",
    "    return cover"
   ]
  },
  {
   "cell_type": "code",
   "execution_count": 15,
   "id": "cabe259b",
   "metadata": {},
   "outputs": [
    {
     "name": "stdout",
     "output_type": "stream",
     "text": [
      "[((), (0,)), ((), (2,)), ((), (3,)), ((0,), (0, 1, 2, 3)), ((2,), (1, 2)), ((3,), (0, 1, 2, 3)), ((1, 2), (0, 1, 2, 3))]\n"
     ]
    }
   ],
   "source": [
    "print(covering(propsubrel(example_fixpts)))"
   ]
  },
  {
   "cell_type": "code",
   "execution_count": 16,
   "id": "e599a157",
   "metadata": {},
   "outputs": [],
   "source": [
    "def lattice(rel,X = None):\n",
    "    \"\"\"given a relation rel on X, returns the Hasse diagram of the lattice of fixpoints\"\"\"\n",
    "    \n",
    "    if X is None:\n",
    "        X = set([pair[0] for pair in rel]) \n",
    "        \n",
    "    fix = fixpoints(rel,X)\n",
    "    cover = covering(propsubrel(fix))\n",
    "    l = nx.DiGraph()\n",
    "    l.add_nodes_from(fix)\n",
    "    l.add_edges_from(cover) \n",
    "    \n",
    "    return l"
   ]
  },
  {
   "cell_type": "code",
   "execution_count": 17,
   "id": "0f33f7f1",
   "metadata": {},
   "outputs": [
    {
     "data": {
      "image/png": "[encoded data removed]",
      "text/plain": [
       "<Figure size 432x288 with 1 Axes>"
      ]
     },
     "metadata": {},
     "output_type": "display_data"
    }
   ],
   "source": [
    "l = lattice(example_rel)\n",
    "\n",
    "nx.draw(l)\n",
    "plt.show() "
   ]
  },
  {
   "cell_type": "markdown",
   "id": "0acde48e",
   "metadata": {},
   "source": [
    "## I.IV Generating compatibility frames up to isomorphism  <a id='I.IV'></a>\n",
    "\n",
    "In this section, we generate all compatibility frames of size $n$ up to isomorphism by generating all directed graphs (without loops) of size $n$ up to isomorphism and then adding all reflexive loops.\n",
    "\n",
    "To obtain all directed graphs of size $n$ up to isomorphism, we use nauty:\n",
    "\n",
    "http://users.cecs.anu.edu.au/~bdm/nauty/\n",
    "\n",
    "B. D. McKay and A. Piperno, Practical Graph Isomorphism, II, J. Symbolic Computation (2013) 60 94-112. https://doi.org/10.1016/j.jsc.2013.09.003. Preprint version at https://arxiv.org/abs/1301.1493.\n",
    "\n",
    "After installing nauty, the command line command\n",
    "\n",
    "geng n | directg -T > digraphs_n.txt\n",
    "\n",
    "outputs all directed graphs of size $n$ up to isomorphism in digraphs_n.txt. I stored digraphs_1.txt through digraphs_5.txt in the digraphs directory in GitHub. The file digraphs_6.txt was too large (at 100 MB), but it can be generated locally as above.\n",
    "\n",
    "Each line of digraphs_n.txt has the following format:\n",
    "\n",
    "num_vertices num_edges edges."
   ]
  },
  {
   "cell_type": "markdown",
   "id": "58512766",
   "metadata": {},
   "source": [
    "The integer sequence for the number of nonempty directed graphs up to isomorphism with $n$ nodes (https://oeis.org/A000273) begins as follows: $1, 3, 16, 218, 9608, 1540944, 882033440, \\dots$"
   ]
  },
  {
   "cell_type": "code",
   "execution_count": 18,
   "id": "05b45b79",
   "metadata": {},
   "outputs": [],
   "source": [
    "def readgraphs(filename):\n",
    "    \"\"\"converts each line from the nauty output file into a list of pairs representing edges\"\"\"\n",
    "    file = open(filename)\n",
    "    lines = file.readlines()\n",
    "    graphs = []\n",
    "\n",
    "    for line in lines:\n",
    "        edges = []\n",
    "        l = line.split(\" \")\n",
    "        num_vertices = int(l[0])\n",
    "        num_edges = int(l[1])\n",
    "        for i in range(num_edges):\n",
    "            edges.append( (int(l[2*i+2]), int(l[2*i+3]) ))\n",
    "        graphs.append(edges)\n",
    "\n",
    "    return graphs"
   ]
  },
  {
   "cell_type": "code",
   "execution_count": 19,
   "id": "6432645d",
   "metadata": {},
   "outputs": [],
   "source": [
    "def make_reflexive(rels,X):\n",
    "    \"\"\"given a list of relations, returns the reflexive closures of each\"\"\"\n",
    "    newrels = []\n",
    "    for rel in rels:\n",
    "        newrel = reflexive_closure(rel,X)\n",
    "        newrels.append(newrel)\n",
    "    return newrels"
   ]
  },
  {
   "cell_type": "code",
   "execution_count": 20,
   "id": "2b165352",
   "metadata": {},
   "outputs": [],
   "source": [
    "def comp_frames_size(n):\n",
    "    \"\"\"returns a representative of each isomorphism class of compatibiliy frames of size n\"\"\"\n",
    "    dgs = readgraphs(f\"digraphs/digraphs{n}.txt\")\n",
    "    rdgs = make_reflexive(dgs,range(n))\n",
    "    \n",
    "    return rdgs"
   ]
  },
  {
   "cell_type": "code",
   "execution_count": 21,
   "id": "20c82690",
   "metadata": {},
   "outputs": [
    {
     "name": "stdout",
     "output_type": "stream",
     "text": [
      "9608\n"
     ]
    }
   ],
   "source": [
    "print(len(comp_frames_size(5)))"
   ]
  },
  {
   "cell_type": "markdown",
   "id": "394e16d5",
   "metadata": {},
   "source": [
    "## I.V Generating fixpoint lattices up to isomorphism  <a id='I.V'></a>\n",
    "\n",
    "Using a naive approach, we can fairly quickly generate all fixpoints lattices up to isomorphism arising from directed graphs of size $\\leq 5$ up to isomorphism. Doing so for directed graphs of size $6$ takes much longer.\n",
    "\n",
    "The integer sequence for the number of nondegenerate lattices up to isomorphism with n nodes (https://oeis.org/A006966) begins as follows: $1, 1, 1, 2, 15, 53, 222, 1078, 5994 \\dots$"
   ]
  },
  {
   "cell_type": "code",
   "execution_count": 22,
   "id": "e634702f",
   "metadata": {},
   "outputs": [],
   "source": [
    "num_lats_of_size = {2: 1, 3: 1, 4: 1, 5: 2, 6: 15, 7: 53, 8: 222}"
   ]
  },
  {
   "cell_type": "code",
   "execution_count": 23,
   "id": "30cbbd13",
   "metadata": {},
   "outputs": [],
   "source": [
    "def all_lattices(rels):\n",
    "    \"\"\"given a collection rels of relations, returns all the fixpoint lattices\"\"\"\n",
    "    \n",
    "    lattices = []\n",
    "    \n",
    "    for rel in tqdm(rels):\n",
    "        l = lattice(rel)\n",
    "        lattices.append(l)\n",
    "       \n",
    "    return lattices"
   ]
  },
  {
   "cell_type": "code",
   "execution_count": 24,
   "id": "bfcbcd9c",
   "metadata": {},
   "outputs": [],
   "source": [
    "def lattices(rels):\n",
    "    \"\"\"given a collection rels of relations, returns all the fixpoint lattices up to isomorphism\"\"\"\n",
    "\n",
    "    lattices = []\n",
    "\n",
    "    for rel in tqdm(rels):\n",
    "        l = lattice(rel)\n",
    "        newlat = True\n",
    "        for l2 in lattices:\n",
    "            if nx.is_isomorphic(l,l2):\n",
    "                newlat = False\n",
    "                break\n",
    "        if newlat:\n",
    "            lattices.append(l)\n",
    "       \n",
    "    return lattices"
   ]
  },
  {
   "cell_type": "code",
   "execution_count": 25,
   "id": "3825cdaf",
   "metadata": {},
   "outputs": [],
   "source": [
    "def lattices_size(rels, n):\n",
    "    \"\"\"given a collection rels of relations, returns all the fixpoint lattices of size n up to isomorphism\"\"\"\n",
    "\n",
    "    lattices = []\n",
    "\n",
    "    for rel in tqdm(rels):\n",
    "        if len(fixpoints(rel)) == n:\n",
    "            l = lattice(rel)\n",
    "            newlat = True\n",
    "            for l2 in lattices:\n",
    "                if nx.is_isomorphic(l,l2):\n",
    "                    newlat = False\n",
    "                    break\n",
    "            if newlat:\n",
    "                lattices.append(l)\n",
    "      \n",
    "    return lattices"
   ]
  },
  {
   "cell_type": "code",
   "execution_count": 26,
   "id": "94193645",
   "metadata": {},
   "outputs": [],
   "source": [
    "def lattices_keep_rels(rels):\n",
    "    \"\"\"given a collection rels of relations, returns all the fixpoint lattices up to isomorphism,\n",
    "    plus the relation from which each came\"\"\"\n",
    "\n",
    "    rel_lat = []\n",
    "\n",
    "    for rel in tqdm(rels):\n",
    "        l = lattice(rel)\n",
    "        newlat = True\n",
    "        for pair in rel_lat:\n",
    "            l2 = pair[1]\n",
    "            if nx.is_isomorphic(l,l2):\n",
    "                newlat = False\n",
    "                break\n",
    "        if newlat:\n",
    "            rel_lat.append((rel,l))\n",
    "       \n",
    "    return rel_lat"
   ]
  },
  {
   "cell_type": "code",
   "execution_count": 27,
   "id": "e1fb0362",
   "metadata": {},
   "outputs": [],
   "source": [
    "def num_each_size(lats):\n",
    "    \"\"\"returns the number of lattices in lats of each size\"\"\"\n",
    "    d = {}\n",
    "    \n",
    "    for l in lats:\n",
    "        num = len(l.nodes)\n",
    "        if num in d.keys():\n",
    "            d[num] = d[num]+1\n",
    "        if not num in d.keys():\n",
    "            d[num] = 1\n",
    "            \n",
    "    return d"
   ]
  },
  {
   "cell_type": "markdown",
   "id": "c6d81bc8",
   "metadata": {},
   "source": [
    "### Lattices from compatibility frames of size 1-4"
   ]
  },
  {
   "cell_type": "code",
   "execution_count": 28,
   "id": "1e6a3f9d",
   "metadata": {},
   "outputs": [
    {
     "data": {
      "application/vnd.jupyter.widget-view+json": {
       "model_id": "dbbc9ffab7194708a307237649832077",
       "version_major": 2,
       "version_minor": 0
      },
      "text/plain": [
       "  0%|          | 0/1 [00:00<?, ?it/s]"
      ]
     },
     "metadata": {},
     "output_type": "display_data"
    },
    {
     "data": {
      "application/vnd.jupyter.widget-view+json": {
       "model_id": "5517c20915a041789ccaf1a4f3a5b395",
       "version_major": 2,
       "version_minor": 0
      },
      "text/plain": [
       "  0%|          | 0/3 [00:00<?, ?it/s]"
      ]
     },
     "metadata": {},
     "output_type": "display_data"
    },
    {
     "data": {
      "application/vnd.jupyter.widget-view+json": {
       "model_id": "0be625fd4efb4f7e880e26abc0aab5bc",
       "version_major": 2,
       "version_minor": 0
      },
      "text/plain": [
       "  0%|          | 0/16 [00:00<?, ?it/s]"
      ]
     },
     "metadata": {},
     "output_type": "display_data"
    },
    {
     "data": {
      "application/vnd.jupyter.widget-view+json": {
       "model_id": "a37d1a9e4234462dbad78a058c2bec0b",
       "version_major": 2,
       "version_minor": 0
      },
      "text/plain": [
       "  0%|          | 0/218 [00:00<?, ?it/s]"
      ]
     },
     "metadata": {},
     "output_type": "display_data"
    }
   ],
   "source": [
    "lattices_keep_rels_from_comp_frames_size = {n: lattices_keep_rels(comp_frames_size(n)) for n in range(1,5)}"
   ]
  },
  {
   "cell_type": "code",
   "execution_count": 29,
   "id": "14f44ef5",
   "metadata": {},
   "outputs": [
    {
     "data": {
      "application/vnd.jupyter.widget-view+json": {
       "model_id": "dfbbbcfd02604429998fc92a61bfe2b5",
       "version_major": 2,
       "version_minor": 0
      },
      "text/plain": [
       "  0%|          | 0/1 [00:00<?, ?it/s]"
      ]
     },
     "metadata": {},
     "output_type": "display_data"
    },
    {
     "data": {
      "application/vnd.jupyter.widget-view+json": {
       "model_id": "d93a33c8be8d4450947f458c2853bc6d",
       "version_major": 2,
       "version_minor": 0
      },
      "text/plain": [
       "  0%|          | 0/3 [00:00<?, ?it/s]"
      ]
     },
     "metadata": {},
     "output_type": "display_data"
    },
    {
     "data": {
      "application/vnd.jupyter.widget-view+json": {
       "model_id": "bd7854522c4f4ecfa5ac7834706c70c7",
       "version_major": 2,
       "version_minor": 0
      },
      "text/plain": [
       "  0%|          | 0/16 [00:00<?, ?it/s]"
      ]
     },
     "metadata": {},
     "output_type": "display_data"
    },
    {
     "data": {
      "application/vnd.jupyter.widget-view+json": {
       "model_id": "44d0aecd0c5049bf91614216a9fee07f",
       "version_major": 2,
       "version_minor": 0
      },
      "text/plain": [
       "  0%|          | 0/218 [00:00<?, ?it/s]"
      ]
     },
     "metadata": {},
     "output_type": "display_data"
    }
   ],
   "source": [
    "lattices_from_comp_frames_size = {n: lattices(comp_frames_size(n)) for n in range(1,5)}"
   ]
  },
  {
   "cell_type": "code",
   "execution_count": 30,
   "id": "475c7fd0",
   "metadata": {},
   "outputs": [
    {
     "data": {
      "image/png": "[encoded data removed]",
      "text/plain": [
       "<Figure size 432x288 with 1 Axes>"
      ]
     },
     "metadata": {},
     "output_type": "display_data"
    },
    {
     "name": "stdout",
     "output_type": "stream",
     "text": [
      "\n",
      "\n"
     ]
    },
    {
     "data": {
      "image/png": "[encoded data removed]",
      "text/plain": [
       "<Figure size 432x288 with 1 Axes>"
      ]
     },
     "metadata": {},
     "output_type": "display_data"
    },
    {
     "name": "stdout",
     "output_type": "stream",
     "text": [
      "\n",
      "\n"
     ]
    },
    {
     "data": {
      "image/png": "[encoded data removed]",
      "text/plain": [
       "<Figure size 432x288 with 1 Axes>"
      ]
     },
     "metadata": {},
     "output_type": "display_data"
    },
    {
     "name": "stdout",
     "output_type": "stream",
     "text": [
      "\n",
      "\n"
     ]
    },
    {
     "data": {
      "image/png": "[encoded data removed]",
      "text/plain": [
       "<Figure size 432x288 with 1 Axes>"
      ]
     },
     "metadata": {},
     "output_type": "display_data"
    },
    {
     "name": "stdout",
     "output_type": "stream",
     "text": [
      "\n",
      "\n"
     ]
    },
    {
     "data": {
      "image/png": "[encoded data removed]",
      "text/plain": [
       "<Figure size 432x288 with 1 Axes>"
      ]
     },
     "metadata": {},
     "output_type": "display_data"
    },
    {
     "name": "stdout",
     "output_type": "stream",
     "text": [
      "\n",
      "\n"
     ]
    },
    {
     "data": {
      "image/png": "[encoded data removed]",
      "text/plain": [
       "<Figure size 432x288 with 1 Axes>"
      ]
     },
     "metadata": {},
     "output_type": "display_data"
    },
    {
     "name": "stdout",
     "output_type": "stream",
     "text": [
      "\n",
      "\n"
     ]
    },
    {
     "data": {
      "image/png": "[encoded data removed]",
      "text/plain": [
       "<Figure size 432x288 with 1 Axes>"
      ]
     },
     "metadata": {},
     "output_type": "display_data"
    },
    {
     "name": "stdout",
     "output_type": "stream",
     "text": [
      "\n",
      "\n"
     ]
    },
    {
     "data": {
      "image/png": "[encoded data removed]",
      "text/plain": [
       "<Figure size 432x288 with 1 Axes>"
      ]
     },
     "metadata": {},
     "output_type": "display_data"
    },
    {
     "name": "stdout",
     "output_type": "stream",
     "text": [
      "\n",
      "\n"
     ]
    },
    {
     "data": {
      "image/png": "[encoded data removed]",
      "text/plain": [
       "<Figure size 432x288 with 1 Axes>"
      ]
     },
     "metadata": {},
     "output_type": "display_data"
    },
    {
     "name": "stdout",
     "output_type": "stream",
     "text": [
      "\n",
      "\n"
     ]
    },
    {
     "data": {
      "image/png": "[encoded data removed]",
      "text/plain": [
       "<Figure size 432x288 with 1 Axes>"
      ]
     },
     "metadata": {},
     "output_type": "display_data"
    },
    {
     "name": "stdout",
     "output_type": "stream",
     "text": [
      "\n",
      "\n"
     ]
    }
   ],
   "source": [
    "for l in lattices_from_comp_frames_size[3]:\n",
    "        nx.draw(l)\n",
    "        plt.show() \n",
    "        print(\"\\n\")"
   ]
  },
  {
   "cell_type": "code",
   "execution_count": 31,
   "id": "322f397f",
   "metadata": {},
   "outputs": [
    {
     "name": "stdout",
     "output_type": "stream",
     "text": [
      "Number of compatibility frames of size 1 up to iso: 1\n",
      "Number of lattices up to iso from compatibility frames of size 1: 1\n",
      "\n",
      "\n",
      "Number of compatibility frames of size 2 up to iso: 3\n",
      "Number of lattices up to iso from compatibility frames of size 2: 3\n",
      "\n",
      "\n",
      "Number of compatibility frames of size 3 up to iso: 16\n",
      "Number of lattices up to iso from compatibility frames of size 3: 10\n",
      "\n",
      "\n",
      "Number of compatibility frames of size 4 up to iso: 218\n",
      "Number of lattices up to iso from compatibility frames of size 4: 59\n",
      "\n",
      "\n"
     ]
    }
   ],
   "source": [
    "for n in range(1,5):\n",
    "    print(f\"Number of compatibility frames of size {n} up to iso: {len(comp_frames_size(n))}\")\n",
    "    print(f\"Number of lattices up to iso from compatibility frames of size {n}: {len(lattices_from_comp_frames_size[n])}\")\n",
    "    print(\"\\n\")"
   ]
  },
  {
   "cell_type": "code",
   "execution_count": 32,
   "id": "b8b92843",
   "metadata": {},
   "outputs": [
    {
     "name": "stdout",
     "output_type": "stream",
     "text": [
      "Number of lattices of each size arising from compatibility frames of size 1:\n",
      "{2: 1}\n",
      "\n",
      "\n",
      "Number of lattices of each size arising from compatibility frames of size 2:\n",
      "{2: 1, 3: 1, 4: 1}\n",
      "\n",
      "\n",
      "Number of lattices of each size arising from compatibility frames of size 3:\n",
      "{2: 1, 3: 1, 4: 2, 5: 4, 6: 1, 8: 1}\n",
      "\n",
      "\n",
      "Number of lattices of each size arising from compatibility frames of size 4:\n",
      "{2: 1, 3: 1, 4: 2, 5: 5, 6: 14, 7: 14, 8: 6, 9: 9, 10: 5, 12: 1, 16: 1}\n",
      "\n",
      "\n"
     ]
    }
   ],
   "source": [
    "for n in range(1,5):\n",
    "    d = num_each_size(lattices_from_comp_frames_size[n])\n",
    "    print(f\"Number of lattices of each size arising from compatibility frames of size {n}:\")\n",
    "    pprint(d)\n",
    "    print(\"\\n\")"
   ]
  },
  {
   "cell_type": "markdown",
   "id": "d95acbf4",
   "metadata": {},
   "source": [
    "The computation above shows (recall https://oeis.org/A006966) that all lattices of size $\\leq 5$ can be represented as lattices of fixpoints arising from compatibility frames of size $4$. Moreover, $14$ of the $15$  lattices of size $6$ up to isomorphism can be so represented. The missing one is the $6$-element chain arising as the fixpoint lattice of the $5$-element linear order, as we verify below."
   ]
  },
  {
   "cell_type": "code",
   "execution_count": 33,
   "id": "9f2b5872",
   "metadata": {},
   "outputs": [],
   "source": [
    "def linear_order(n):\n",
    "    \"\"\"returns the n-element linear order as a list of pairs\"\"\"\n",
    "    l = []\n",
    "\n",
    "    for i in range(n):\n",
    "        for j in range (n):\n",
    "            if i<=j:\n",
    "                l.append((i,j))\n",
    "            \n",
    "    return l"
   ]
  },
  {
   "cell_type": "code",
   "execution_count": 34,
   "id": "04c4334d",
   "metadata": {},
   "outputs": [
    {
     "data": {
      "image/png": "[encoded data removed]",
      "text/plain": [
       "<Figure size 432x288 with 1 Axes>"
      ]
     },
     "metadata": {},
     "output_type": "display_data"
    }
   ],
   "source": [
    "l = lattice(linear_order(5))\n",
    "\n",
    "nx.draw(l)\n",
    "plt.show() "
   ]
  },
  {
   "cell_type": "code",
   "execution_count": 35,
   "id": "f10718d7",
   "metadata": {},
   "outputs": [],
   "source": [
    "def iso_copy_in(lat,lats):\n",
    "    \"\"\"checks whether lats contains an isomorphic copy of lat\"\"\"\n",
    "    iso = False\n",
    "    for l in lats:\n",
    "        if l.nodes == lat.nodes:\n",
    "            if nx.is_isomorphic(lat,l):\n",
    "                iso = True\n",
    "                break\n",
    "    return iso"
   ]
  },
  {
   "cell_type": "code",
   "execution_count": 36,
   "id": "596c2398",
   "metadata": {},
   "outputs": [
    {
     "data": {
      "text/plain": [
       "False"
      ]
     },
     "execution_count": 36,
     "metadata": {},
     "output_type": "execute_result"
    }
   ],
   "source": [
    "iso_copy_in(lattice(linear_order(5)),lattices_from_comp_frames_size[4])"
   ]
  },
  {
   "cell_type": "markdown",
   "id": "049fb91c",
   "metadata": {},
   "source": [
    "### Lattices from compatibility frames of size 5\n",
    "\n",
    "We separate the generation of lattices up to isomorphism from compatibility frames of size 5, since this takes a bit longer."
   ]
  },
  {
   "cell_type": "code",
   "execution_count": 37,
   "id": "9a098bee",
   "metadata": {},
   "outputs": [
    {
     "data": {
      "application/vnd.jupyter.widget-view+json": {
       "model_id": "404367116edf4ee2a1b544b82b46af6c",
       "version_major": 2,
       "version_minor": 0
      },
      "text/plain": [
       "  0%|          | 0/9608 [00:00<?, ?it/s]"
      ]
     },
     "metadata": {},
     "output_type": "display_data"
    },
    {
     "ename": "KeyboardInterrupt",
     "evalue": "",
     "output_type": "error",
     "traceback": [
      "\u001b[0;31m---------------------------------------------------------------------------\u001b[0m",
      "\u001b[0;31mKeyboardInterrupt\u001b[0m                         Traceback (most recent call last)",
      "\u001b[0;32m/var/folders/r5/_dfyhx994rg13y_svkv360b40000gn/T/ipykernel_71459/3345600367.py\u001b[0m in \u001b[0;36m<module>\u001b[0;34m\u001b[0m\n\u001b[0;32m----> 1\u001b[0;31m \u001b[0mlattices_keep_rels_from_comp_frames_size\u001b[0m\u001b[0;34m[\u001b[0m\u001b[0;36m5\u001b[0m\u001b[0;34m]\u001b[0m \u001b[0;34m=\u001b[0m \u001b[0mlattices_keep_rels\u001b[0m\u001b[0;34m(\u001b[0m\u001b[0mcomp_frames_size\u001b[0m\u001b[0;34m(\u001b[0m\u001b[0;36m5\u001b[0m\u001b[0;34m)\u001b[0m\u001b[0;34m)\u001b[0m\u001b[0;34m\u001b[0m\u001b[0;34m\u001b[0m\u001b[0m\n\u001b[0m",
      "\u001b[0;32m/var/folders/r5/_dfyhx994rg13y_svkv360b40000gn/T/ipykernel_71459/2370013066.py\u001b[0m in \u001b[0;36mlattices_keep_rels\u001b[0;34m(rels)\u001b[0m\n\u001b[1;32m     10\u001b[0m         \u001b[0;32mfor\u001b[0m \u001b[0mpair\u001b[0m \u001b[0;32min\u001b[0m \u001b[0mrel_lat\u001b[0m\u001b[0;34m:\u001b[0m\u001b[0;34m\u001b[0m\u001b[0;34m\u001b[0m\u001b[0m\n\u001b[1;32m     11\u001b[0m             \u001b[0ml2\u001b[0m \u001b[0;34m=\u001b[0m \u001b[0mpair\u001b[0m\u001b[0;34m[\u001b[0m\u001b[0;36m1\u001b[0m\u001b[0;34m]\u001b[0m\u001b[0;34m\u001b[0m\u001b[0;34m\u001b[0m\u001b[0m\n\u001b[0;32m---> 12\u001b[0;31m             \u001b[0;32mif\u001b[0m \u001b[0mnx\u001b[0m\u001b[0;34m.\u001b[0m\u001b[0mis_isomorphic\u001b[0m\u001b[0;34m(\u001b[0m\u001b[0ml\u001b[0m\u001b[0;34m,\u001b[0m\u001b[0ml2\u001b[0m\u001b[0;34m)\u001b[0m\u001b[0;34m:\u001b[0m\u001b[0;34m\u001b[0m\u001b[0;34m\u001b[0m\u001b[0m\n\u001b[0m\u001b[1;32m     13\u001b[0m                 \u001b[0mnewlat\u001b[0m \u001b[0;34m=\u001b[0m \u001b[0;32mFalse\u001b[0m\u001b[0;34m\u001b[0m\u001b[0;34m\u001b[0m\u001b[0m\n\u001b[1;32m     14\u001b[0m                 \u001b[0;32mbreak\u001b[0m\u001b[0;34m\u001b[0m\u001b[0;34m\u001b[0m\u001b[0m\n",
      "\u001b[0;32m/opt/homebrew/lib/python3.9/site-packages/networkx/algorithms/isomorphism/isomorph.py\u001b[0m in \u001b[0;36mis_isomorphic\u001b[0;34m(G1, G2, node_match, edge_match)\u001b[0m\n\u001b[1;32m    229\u001b[0m         \u001b[0;32mraise\u001b[0m \u001b[0mNetworkXError\u001b[0m\u001b[0;34m(\u001b[0m\u001b[0;34m\"Graphs G1 and G2 are not of the same type.\"\u001b[0m\u001b[0;34m)\u001b[0m\u001b[0;34m\u001b[0m\u001b[0;34m\u001b[0m\u001b[0m\n\u001b[1;32m    230\u001b[0m \u001b[0;34m\u001b[0m\u001b[0m\n\u001b[0;32m--> 231\u001b[0;31m     \u001b[0mgm\u001b[0m \u001b[0;34m=\u001b[0m \u001b[0mGM\u001b[0m\u001b[0;34m(\u001b[0m\u001b[0mG1\u001b[0m\u001b[0;34m,\u001b[0m \u001b[0mG2\u001b[0m\u001b[0;34m,\u001b[0m \u001b[0mnode_match\u001b[0m\u001b[0;34m=\u001b[0m\u001b[0mnode_match\u001b[0m\u001b[0;34m,\u001b[0m \u001b[0medge_match\u001b[0m\u001b[0;34m=\u001b[0m\u001b[0medge_match\u001b[0m\u001b[0;34m)\u001b[0m\u001b[0;34m\u001b[0m\u001b[0;34m\u001b[0m\u001b[0m\n\u001b[0m\u001b[1;32m    232\u001b[0m \u001b[0;34m\u001b[0m\u001b[0m\n\u001b[1;32m    233\u001b[0m     \u001b[0;32mreturn\u001b[0m \u001b[0mgm\u001b[0m\u001b[0;34m.\u001b[0m\u001b[0mis_isomorphic\u001b[0m\u001b[0;34m(\u001b[0m\u001b[0;34m)\u001b[0m\u001b[0;34m\u001b[0m\u001b[0;34m\u001b[0m\u001b[0m\n",
      "\u001b[0;32m/opt/homebrew/lib/python3.9/site-packages/networkx/algorithms/isomorphism/vf2userfunc.py\u001b[0m in \u001b[0;36m__init__\u001b[0;34m(self, G1, G2, node_match, edge_match)\u001b[0m\n\u001b[1;32m    157\u001b[0m \u001b[0;34m\u001b[0m\u001b[0m\n\u001b[1;32m    158\u001b[0m         \"\"\"\n\u001b[0;32m--> 159\u001b[0;31m         \u001b[0mvf2\u001b[0m\u001b[0;34m.\u001b[0m\u001b[0mDiGraphMatcher\u001b[0m\u001b[0;34m.\u001b[0m\u001b[0m__init__\u001b[0m\u001b[0;34m(\u001b[0m\u001b[0mself\u001b[0m\u001b[0;34m,\u001b[0m \u001b[0mG1\u001b[0m\u001b[0;34m,\u001b[0m \u001b[0mG2\u001b[0m\u001b[0;34m)\u001b[0m\u001b[0;34m\u001b[0m\u001b[0;34m\u001b[0m\u001b[0m\n\u001b[0m\u001b[1;32m    160\u001b[0m \u001b[0;34m\u001b[0m\u001b[0m\n\u001b[1;32m    161\u001b[0m         \u001b[0mself\u001b[0m\u001b[0;34m.\u001b[0m\u001b[0mnode_match\u001b[0m \u001b[0;34m=\u001b[0m \u001b[0mnode_match\u001b[0m\u001b[0;34m\u001b[0m\u001b[0;34m\u001b[0m\u001b[0m\n",
      "\u001b[0;32m/opt/homebrew/lib/python3.9/site-packages/networkx/algorithms/isomorphism/isomorphvf2.py\u001b[0m in \u001b[0;36m__init__\u001b[0;34m(self, G1, G2)\u001b[0m\n\u001b[1;32m    537\u001b[0m         \u001b[0;34m>>\u001b[0m\u001b[0;34m>\u001b[0m \u001b[0mDiGM\u001b[0m \u001b[0;34m=\u001b[0m \u001b[0misomorphism\u001b[0m\u001b[0;34m.\u001b[0m\u001b[0mDiGraphMatcher\u001b[0m\u001b[0;34m(\u001b[0m\u001b[0mG1\u001b[0m\u001b[0;34m,\u001b[0m \u001b[0mG2\u001b[0m\u001b[0;34m)\u001b[0m\u001b[0;34m\u001b[0m\u001b[0;34m\u001b[0m\u001b[0m\n\u001b[1;32m    538\u001b[0m         \"\"\"\n\u001b[0;32m--> 539\u001b[0;31m         \u001b[0msuper\u001b[0m\u001b[0;34m(\u001b[0m\u001b[0;34m)\u001b[0m\u001b[0;34m.\u001b[0m\u001b[0m__init__\u001b[0m\u001b[0;34m(\u001b[0m\u001b[0mG1\u001b[0m\u001b[0;34m,\u001b[0m \u001b[0mG2\u001b[0m\u001b[0;34m)\u001b[0m\u001b[0;34m\u001b[0m\u001b[0;34m\u001b[0m\u001b[0m\n\u001b[0m\u001b[1;32m    540\u001b[0m \u001b[0;34m\u001b[0m\u001b[0m\n\u001b[1;32m    541\u001b[0m     \u001b[0;32mdef\u001b[0m \u001b[0mcandidate_pairs_iter\u001b[0m\u001b[0;34m(\u001b[0m\u001b[0mself\u001b[0m\u001b[0;34m)\u001b[0m\u001b[0;34m:\u001b[0m\u001b[0;34m\u001b[0m\u001b[0;34m\u001b[0m\u001b[0m\n",
      "\u001b[0;32m/opt/homebrew/lib/python3.9/site-packages/networkx/algorithms/isomorphism/isomorphvf2.py\u001b[0m in \u001b[0;36m__init__\u001b[0;34m(self, G1, G2)\u001b[0m\n\u001b[1;32m    185\u001b[0m \u001b[0;34m\u001b[0m\u001b[0m\n\u001b[1;32m    186\u001b[0m         \u001b[0;31m# Initialize state\u001b[0m\u001b[0;34m\u001b[0m\u001b[0;34m\u001b[0m\u001b[0m\n\u001b[0;32m--> 187\u001b[0;31m         \u001b[0mself\u001b[0m\u001b[0;34m.\u001b[0m\u001b[0minitialize\u001b[0m\u001b[0;34m(\u001b[0m\u001b[0;34m)\u001b[0m\u001b[0;34m\u001b[0m\u001b[0;34m\u001b[0m\u001b[0m\n\u001b[0m\u001b[1;32m    188\u001b[0m \u001b[0;34m\u001b[0m\u001b[0m\n\u001b[1;32m    189\u001b[0m     \u001b[0;32mdef\u001b[0m \u001b[0mreset_recursion_limit\u001b[0m\u001b[0;34m(\u001b[0m\u001b[0mself\u001b[0m\u001b[0;34m)\u001b[0m\u001b[0;34m:\u001b[0m\u001b[0;34m\u001b[0m\u001b[0;34m\u001b[0m\u001b[0m\n",
      "\u001b[0;32m/opt/homebrew/lib/python3.9/site-packages/networkx/algorithms/isomorphism/isomorphvf2.py\u001b[0m in \u001b[0;36minitialize\u001b[0;34m(self)\u001b[0m\n\u001b[1;32m    615\u001b[0m         \u001b[0mself\u001b[0m\u001b[0;34m.\u001b[0m\u001b[0mout_2\u001b[0m \u001b[0;34m=\u001b[0m \u001b[0;34m{\u001b[0m\u001b[0;34m}\u001b[0m\u001b[0;34m\u001b[0m\u001b[0;34m\u001b[0m\u001b[0m\n\u001b[1;32m    616\u001b[0m \u001b[0;34m\u001b[0m\u001b[0m\n\u001b[0;32m--> 617\u001b[0;31m         \u001b[0mself\u001b[0m\u001b[0;34m.\u001b[0m\u001b[0mstate\u001b[0m \u001b[0;34m=\u001b[0m \u001b[0mDiGMState\u001b[0m\u001b[0;34m(\u001b[0m\u001b[0mself\u001b[0m\u001b[0;34m)\u001b[0m\u001b[0;34m\u001b[0m\u001b[0;34m\u001b[0m\u001b[0m\n\u001b[0m\u001b[1;32m    618\u001b[0m \u001b[0;34m\u001b[0m\u001b[0m\n\u001b[1;32m    619\u001b[0m         \u001b[0;31m# Provide a convenient way to access the isomorphism mapping.\u001b[0m\u001b[0;34m\u001b[0m\u001b[0;34m\u001b[0m\u001b[0m\n",
      "\u001b[0;32m/opt/homebrew/lib/python3.9/site-packages/networkx/algorithms/isomorphism/isomorphvf2.py\u001b[0m in \u001b[0;36m__init__\u001b[0;34m(self, GM, G1_node, G2_node)\u001b[0m\n\u001b[1;32m    958\u001b[0m         \u001b[0;32mif\u001b[0m \u001b[0mG1_node\u001b[0m \u001b[0;32mis\u001b[0m \u001b[0;32mNone\u001b[0m \u001b[0;32mor\u001b[0m \u001b[0mG2_node\u001b[0m \u001b[0;32mis\u001b[0m \u001b[0;32mNone\u001b[0m\u001b[0;34m:\u001b[0m\u001b[0;34m\u001b[0m\u001b[0;34m\u001b[0m\u001b[0m\n\u001b[1;32m    959\u001b[0m             \u001b[0;31m# Then we reset the class variables\u001b[0m\u001b[0;34m\u001b[0m\u001b[0;34m\u001b[0m\u001b[0m\n\u001b[0;32m--> 960\u001b[0;31m             \u001b[0mGM\u001b[0m\u001b[0;34m.\u001b[0m\u001b[0mcore_1\u001b[0m \u001b[0;34m=\u001b[0m \u001b[0;34m{\u001b[0m\u001b[0;34m}\u001b[0m\u001b[0;34m\u001b[0m\u001b[0;34m\u001b[0m\u001b[0m\n\u001b[0m\u001b[1;32m    961\u001b[0m             \u001b[0mGM\u001b[0m\u001b[0;34m.\u001b[0m\u001b[0mcore_2\u001b[0m \u001b[0;34m=\u001b[0m \u001b[0;34m{\u001b[0m\u001b[0;34m}\u001b[0m\u001b[0;34m\u001b[0m\u001b[0;34m\u001b[0m\u001b[0m\n\u001b[1;32m    962\u001b[0m             \u001b[0mGM\u001b[0m\u001b[0;34m.\u001b[0m\u001b[0min_1\u001b[0m \u001b[0;34m=\u001b[0m \u001b[0;34m{\u001b[0m\u001b[0;34m}\u001b[0m\u001b[0;34m\u001b[0m\u001b[0;34m\u001b[0m\u001b[0m\n",
      "\u001b[0;31mKeyboardInterrupt\u001b[0m: "
     ]
    }
   ],
   "source": [
    "lattices_keep_rels_from_comp_frames_size[5] = lattices_keep_rels(comp_frames_size(5))"
   ]
  },
  {
   "cell_type": "code",
   "execution_count": null,
   "id": "13231dc8",
   "metadata": {},
   "outputs": [],
   "source": [
    "lattices_from_comp_frames_size[5] = [pair[1] for pair in lattices_keep_rels_from_comp_frames_size[5]]"
   ]
  },
  {
   "cell_type": "code",
   "execution_count": null,
   "id": "775134d4",
   "metadata": {},
   "outputs": [],
   "source": [
    "n=5\n",
    "\n",
    "print(f\"Number of compatibility frames of size {n} up to iso: {len(comp_frames_size(n))}\")\n",
    "print(f\"Number of lattices up to iso from compatibility frames of size {n}: {len(lattices_from_comp_frames_size[n])}\")"
   ]
  },
  {
   "cell_type": "code",
   "execution_count": null,
   "id": "4f1a2d90",
   "metadata": {},
   "outputs": [],
   "source": [
    "n=5\n",
    "\n",
    "d = num_each_size(lattices_from_comp_frames_size[n])\n",
    "print(f\"Number of lattices of each size arising from compatibility frames of size {n}:\")\n",
    "pprint(d)"
   ]
  },
  {
   "cell_type": "markdown",
   "id": "d37d6a76",
   "metadata": {},
   "source": [
    "The computation above shows (recall https://oeis.org/A006966) that all lattices of size $\\leq 6$ can be represented as lattices of fixpoints arising from diagraphs of size $5$. Moreover, $52$ of the $53$ lattices of size $7$ up to isomorphism can be so represented. The missing one is the $7$-element chain arising as the fixpoint lattice of the $6$-element linear order, as we verify below."
   ]
  },
  {
   "cell_type": "code",
   "execution_count": null,
   "id": "a251c66d",
   "metadata": {},
   "outputs": [],
   "source": [
    "iso_copy_in(lattice(linear_order(6)),lattices_from_comp_frames_size[5])"
   ]
  },
  {
   "cell_type": "markdown",
   "id": "badd60ed",
   "metadata": {},
   "source": [
    "Compatibility frames are significantly smaller than the lattices they represent. As shown below, 5-element compatibility frames are on average 59% the size of the lattices they represent."
   ]
  },
  {
   "cell_type": "code",
   "execution_count": null,
   "id": "ae88217f",
   "metadata": {},
   "outputs": [],
   "source": [
    "n=5\n",
    "\n",
    "comp_frame_elements = 0\n",
    "lattice_elements = 0\n",
    "\n",
    "for rel in tqdm(comp_frames_size(n)):\n",
    "    comp_frame_elements += n\n",
    "    lattice_elements += len(lattice(rel).nodes)\n",
    "\n",
    "print(comp_frame_elements / lattice_elements)  "
   ]
  },
  {
   "cell_type": "markdown",
   "id": "cf66840b",
   "metadata": {},
   "source": [
    "### Lattices from compatibility frames of size 6\n",
    "\n",
    "The generation of all lattices up to isomorphism from compatibility frames of size 6 takes several weeks of computation. I iterated through all 1,540,944 compatibility frames of size 6: for each frame $\\mathcal{F}$, if its fixpoint lattice was not isomorphic to the fixpoint lattice of any frame previously considered, then I saved $\\mathcal{F}$ to a pickle file. The result is in /generated/comp_frames_size_6_up_to_iso_of_lats.pkl."
   ]
  },
  {
   "cell_type": "code",
   "execution_count": null,
   "id": "6e0dcc1c",
   "metadata": {},
   "outputs": [],
   "source": [
    "comp_frames_size_6_up_to_iso_of_lats = pickle.load(open(\"generated/comp_frames_size_6_up_to_iso_of_lats.pkl\", \"rb\"))"
   ]
  },
  {
   "cell_type": "code",
   "execution_count": null,
   "id": "ae75b085",
   "metadata": {},
   "outputs": [],
   "source": [
    "len(comp_frames_size_6_up_to_iso_of_lats)"
   ]
  },
  {
   "cell_type": "code",
   "execution_count": null,
   "id": "cdbe2ae6",
   "metadata": {},
   "outputs": [],
   "source": [
    "# Verifying that none of the compatibility frames in comp_frames_size_6_up_to_iso_of_lats.pkl \n",
    "# generate isomorphic fixpoint lattices takes several hours\n",
    "\n",
    "# filter_iso = lattices(comp_frames_size_6_up_to_iso_of_lats)\n",
    "# print(len(filter_iso))"
   ]
  },
  {
   "cell_type": "code",
   "execution_count": null,
   "id": "30c1cc96",
   "metadata": {},
   "outputs": [],
   "source": [
    "# Since none of the compatibility frames in comp_frames_size_6_up_to_iso_of_lats.pkl \n",
    "# generate isomorphic fixpoint lattices, we can use all_lattices instead of lattices here:\n",
    "\n",
    "lattices_from_comp_frames_size[6] =  all_lattices(comp_frames_size_6_up_to_iso_of_lats)"
   ]
  },
  {
   "cell_type": "code",
   "execution_count": null,
   "id": "96a50e6b",
   "metadata": {},
   "outputs": [],
   "source": [
    "print(f\"Number of compatibility frames of size 6 up to iso: 1540944\")\n",
    "print(f\"Number of lattices up to iso from compatibility frames of size {n}: {len(lattices_from_comp_frames_size[6])}\")"
   ]
  },
  {
   "cell_type": "code",
   "execution_count": null,
   "id": "4c414d0c",
   "metadata": {},
   "outputs": [],
   "source": [
    "n=6\n",
    "\n",
    "d = num_each_size(lattices_from_comp_frames_size[n])\n",
    "print(f\"Number of lattices of each size arising from compatibility frames of size {n}:\")\n",
    "pprint(d)"
   ]
  },
  {
   "cell_type": "code",
   "execution_count": null,
   "id": "1c3b5c2e",
   "metadata": {},
   "outputs": [],
   "source": [
    "# If we only wish to compute the lattices of size 8 up to isomorphism\n",
    "# arising from compatibility frames of size 6, we can do so in an hour or so.\n",
    "\n",
    "# lattices_size_8_from_comp_frames_size_6 = lattices_size(comp_frames_size(6),8)\n",
    "\n",
    "# len(lattices_size_8_from_comp_frames_size_6)"
   ]
  },
  {
   "cell_type": "markdown",
   "id": "67882999",
   "metadata": {},
   "source": [
    "The computation above shows (recall https://oeis.org/A006966) that all lattices of size $\\leq 7$ can be represented as lattices of fixpoints arising from compatibility frames of size $6$. Moreover, $221$ of the $222$ lattices of size $8$ up to isomorphism can be so represented. The missing one is the $8$-element chain arising as the fixpoint lattice of the $7$-element linear order, as we verify below."
   ]
  },
  {
   "cell_type": "code",
   "execution_count": null,
   "id": "3096b97d",
   "metadata": {},
   "outputs": [],
   "source": [
    "iso_copy_in(lattice(linear_order(7)),lattices_from_comp_frames_size[6])"
   ]
  },
  {
   "cell_type": "markdown",
   "id": "3799fe7c",
   "metadata": {},
   "source": [
    "This completes the verification of the part of Conjecture 3.13 for lattices of size $\\leq 8$.\n",
    "\n",
    "In fact, the results above suggest an additional conjecture: for any nongenerate finite lattice $L$, if $L$ is not a chain, then there is a compatibility frame $(X,\\vartriangleleft)$ with $|X|<|L|-1$ such that $L$ is isomorphic to $\\mathfrak{L}(X,\\vartriangleleft)$.\n",
    "\n",
    "We have verified this second conjecture for lattices of size $\\leq 8$ as well."
   ]
  },
  {
   "cell_type": "markdown",
   "id": "988e5e0e",
   "metadata": {},
   "source": [
    "### Storing the compatibility frames that give rise to each lattice up to isomorphism of a certain size"
   ]
  },
  {
   "cell_type": "code",
   "execution_count": null,
   "id": "d2f4ec15",
   "metadata": {},
   "outputs": [],
   "source": [
    "def _comp_frames_for_lats_size(n):\n",
    "    if n == 2:\n",
    "        frms = [[(0,0)]]\n",
    "        return frms\n",
    "        \n",
    "    if n > 2 and n <=7:   \n",
    "        frms = [pair[0] for pair in lattices_keep_rels_from_comp_frames_size[n-2] if len(fixpoints(pair[0])) == n]\n",
    "        frms.append(linear_order(n-1))\n",
    "        return frms\n",
    "    \n",
    "    if n == 8:\n",
    "        frms = []\n",
    "        for rel in tqdm(comp_frames_size_6_up_to_iso_of_lats):\n",
    "            if len(fixpoints(rel)) == n:\n",
    "                frms.append(rel)\n",
    "        frms.append(linear_order(n-1))\n",
    "        \n",
    "    return frms"
   ]
  },
  {
   "cell_type": "code",
   "execution_count": null,
   "id": "d779bb2a",
   "metadata": {},
   "outputs": [],
   "source": [
    "comp_frames_for_lats_size = {n: _comp_frames_for_lats_size(n) for n in range(2,8)}\n",
    "# This take about a minute or so for range(2,9)"
   ]
  },
  {
   "cell_type": "code",
   "execution_count": null,
   "id": "859a732f",
   "metadata": {},
   "outputs": [],
   "source": [
    "len(comp_frames_for_lats_size[7])"
   ]
  },
  {
   "cell_type": "markdown",
   "id": "7b34d9cd",
   "metadata": {},
   "source": [
    "## I.VI The $\\neg_\\vartriangleleft$ operation  <a id='I.VI'></a>\n",
    "\n",
    "In this section, we compute the $\\neg_\\vartriangleleft$ operation on fixpoints from Proposition 2.11 in the paper."
   ]
  },
  {
   "cell_type": "code",
   "execution_count": null,
   "id": "7fb84632",
   "metadata": {},
   "outputs": [],
   "source": [
    "def neg_pairs(rel, X = None):\n",
    "    \"\"\"given a relation rel on X, return a set of pairs of fixpoints representing the neg function on fixpoints\n",
    "    as in Proposition 2.11 in the paper\"\"\"\n",
    "    \n",
    "    if X is None:\n",
    "        X = domain(rel)\n",
    "        \n",
    "    fixpts = fixpoints(rel,X)\n",
    "    \n",
    "    negrel = []\n",
    "    \n",
    "    for A in fixpts:\n",
    "        Aset = set(A)\n",
    "        negA = tuple({x for x in X if not any([pair[1]==x and pair[0] in Aset for pair in rel])})\n",
    "        negrel.append((A,negA))\n",
    "    \n",
    "    return negrel"
   ]
  },
  {
   "cell_type": "code",
   "execution_count": null,
   "id": "d0d6d35d",
   "metadata": {},
   "outputs": [],
   "source": [
    "# An example\n",
    "rel = reflexive_closure([(0,1),(1,2),(2,0)],range(3))\n",
    "neg_pairs(rel)"
   ]
  },
  {
   "cell_type": "code",
   "execution_count": null,
   "id": "bb85a3d4",
   "metadata": {},
   "outputs": [],
   "source": [
    "def neg_dict(rel, X = None):\n",
    "    \"\"\"Like the neg function but returns a dictionary instead of a set of pairs\"\"\"\n",
    "    \n",
    "    if X is None:\n",
    "        X = domain(rel)\n",
    "        \n",
    "    fixpts = fixpoints(rel,X)\n",
    "    \n",
    "    negd = {}\n",
    "    \n",
    "    for A in fixpts:\n",
    "        Aset = set(A)\n",
    "        negA = tuple({x for x in X if not any([pair[1]==x and pair[0] in Aset for pair in rel])})\n",
    "        negd[A] = negA\n",
    "    \n",
    "    return negd"
   ]
  },
  {
   "cell_type": "code",
   "execution_count": null,
   "id": "8813d164",
   "metadata": {},
   "outputs": [],
   "source": [
    "def lattice_with_neg(rel, X = None):\n",
    "    \"\"\"given a relation rel on X, return the Hasse diagram of the lattice of fixpoints plus the negation operation\"\"\"\n",
    "    \n",
    "    if X is None:\n",
    "        X = domain(rel)\n",
    "        \n",
    "    fix = fixpoints(rel,X)\n",
    "    cover = covering(propsubrel(fix))\n",
    "    negrel = neg_pairs(rel,X)\n",
    "    \n",
    "    l = nx.MultiDiGraph()\n",
    "    l.add_nodes_from(fix)\n",
    "    l.add_edges_from(cover, weight=0) # use weight to distinguish between the covering relation and neg operation\n",
    "    l.add_edges_from(negrel, weight=1) # use weight to distinguish between the covering relation and neg operation\n",
    "    \n",
    "    return l"
   ]
  },
  {
   "cell_type": "code",
   "execution_count": null,
   "id": "f4a5afca",
   "metadata": {},
   "outputs": [],
   "source": [
    "def display_lattice_with_neg(l):\n",
    "    \"\"\"given the Hasse diagram of a lattice with neg operation, \n",
    "    draw covering relation with solid arrows and neg operation with dashed arrows\"\"\"\n",
    "    \n",
    "    coveredges = [(x,y) for (x,y,d) in l.edges(data=True) if d[\"weight\"]==0]\n",
    "    negedges = [(x,y) for (x,y,d) in l.edges(data=True) if d[\"weight\"]==1]\n",
    "\n",
    "    pos = nx.circular_layout(l)\n",
    "    #pos = nx.random_layout(l)\n",
    "    nx.draw_networkx_nodes(l,pos)\n",
    "    nx.draw_networkx_edges(l, pos, edgelist=coveredges)\n",
    "    nx.draw_networkx_edges(l, pos, edgelist=negedges,style=\"dashed\",connectionstyle=\"arc3,rad=0.1\")\n",
    "    plt.show() "
   ]
  },
  {
   "cell_type": "code",
   "execution_count": null,
   "id": "c123b22e",
   "metadata": {},
   "outputs": [],
   "source": [
    "# Examples\n",
    "\n",
    "l = lattice_with_neg(reflexive_closure([],[0]))\n",
    "\n",
    "display_lattice_with_neg(l)\n",
    "\n",
    "l = lattice_with_neg(reflexive_closure([(0,1),(1,2),(2,0)],range(3)))\n",
    "\n",
    "display_lattice_with_neg(l)\n"
   ]
  },
  {
   "cell_type": "code",
   "execution_count": null,
   "id": "b4c19ab2",
   "metadata": {},
   "outputs": [],
   "source": [
    "def lattices_with_neg(rels):\n",
    "    \"\"\"given a collection rels of relations, returns all the fixpoint lattices with neg operation up to isomorphism\"\"\"\n",
    "\n",
    "    lattices = []\n",
    "\n",
    "    for rel in tqdm(rels):\n",
    "        l = lattice_with_neg(rel)\n",
    "        newlat = True\n",
    "        for l2 in lattices:\n",
    "            if nx.is_isomorphic(l,l2):\n",
    "                newlat = False\n",
    "                break\n",
    "        if newlat:\n",
    "            lattices.append(l)\n",
    "       \n",
    "    return lattices"
   ]
  },
  {
   "cell_type": "code",
   "execution_count": null,
   "id": "87fc81e5",
   "metadata": {},
   "outputs": [],
   "source": [
    "def lattices_with_neg_keep_rels(rels):\n",
    "    \"\"\"given a collection rels of relations, returns all the fixpoint lattices with neg operation up to isomorphism,\n",
    "    plus the relation from which each came\"\"\"\n",
    "\n",
    "    rel_lat = []\n",
    "\n",
    "    for rel in tqdm(rels):\n",
    "        l = lattice_with_neg(rel)\n",
    "        newlat = True\n",
    "        for pair in rel_lat:\n",
    "            l2 = pair[1]\n",
    "            if nx.is_isomorphic(l,l2):\n",
    "                newlat = False\n",
    "                break\n",
    "        if newlat:\n",
    "            rel_lat.append((rel,l))\n",
    "       \n",
    "    return rel_lat"
   ]
  },
  {
   "cell_type": "code",
   "execution_count": null,
   "id": "81ff9964",
   "metadata": {},
   "outputs": [],
   "source": [
    "# Examples\n",
    "\n",
    "for pair in lattices_with_neg_keep_rels(comp_frames_size(4)):\n",
    "    if len(pair[1].nodes)==6:\n",
    "        display_lattice_with_neg(pair[1])"
   ]
  },
  {
   "cell_type": "markdown",
   "id": "61a8d24a",
   "metadata": {},
   "source": [
    "### Lattices with $\\neg$ from compatibility frames of size 1-4"
   ]
  },
  {
   "cell_type": "code",
   "execution_count": null,
   "id": "ec1a00ce",
   "metadata": {},
   "outputs": [],
   "source": [
    "lattices_with_neg_from_comp_frames_size = {n: lattices_with_neg(comp_frames_size(n)) for n in range(1,5)}"
   ]
  },
  {
   "cell_type": "code",
   "execution_count": null,
   "id": "fbb7017b",
   "metadata": {},
   "outputs": [],
   "source": [
    "for n in range(1,5):\n",
    "    print(f\"Number of compatibility frames of size {n} up to iso: {len(comp_frames_size(n))}\")\n",
    "    print(f\"Number of lattices up to iso from compatibility frames of size {n}: {len(lattices_from_comp_frames_size[n])}\")\n",
    "    print(f\"Number of lattices with neg up to iso from compatibility frames of size {n}: {len(lattices_with_neg_from_comp_frames_size[n])}\")\n",
    "    print(\"\\n\")"
   ]
  },
  {
   "cell_type": "code",
   "execution_count": null,
   "id": "6dc417b8",
   "metadata": {},
   "outputs": [],
   "source": [
    "for n in range(3,5):\n",
    "    d_n = num_each_size(lattices_from_comp_frames_size[n])\n",
    "    d_neg_n = num_each_size(lattices_with_neg_from_comp_frames_size[n])\n",
    "    print(f\"Number of lattices of each size arising from digraphs of size {n}:\")\n",
    "    pprint(d_n)\n",
    "    print(f\"Number of lattices with neg of each size arising from digraphs of size {n}:\")\n",
    "    pprint(d_neg_n)\n",
    "    print(\"\\n\")"
   ]
  },
  {
   "cell_type": "markdown",
   "id": "ecdb5676",
   "metadata": {},
   "source": [
    "### Lattices with $\\neg$ from compatibility frames of size 5\n",
    "\n",
    "We separate the generation of lattices with $\\neg$ from compatibility frames of size 5, since this takes a bit longer."
   ]
  },
  {
   "cell_type": "code",
   "execution_count": null,
   "id": "360f5bf9",
   "metadata": {},
   "outputs": [],
   "source": [
    "lattices_with_neg_from_comp_frames_size[5] = lattices_with_neg(comp_frames_size(5))"
   ]
  },
  {
   "cell_type": "code",
   "execution_count": null,
   "id": "b923dd62",
   "metadata": {},
   "outputs": [],
   "source": [
    "n=5\n",
    "\n",
    "print(f\"Number of compatibility frames of size {n} up to iso: {len(comp_frames_size(n))}\")\n",
    "print(f\"Number of lattices up to iso from compatibility frames of size {n}: {len(lattices_from_comp_frames_size[n])}\")\n",
    "print(f\"Number of lattices with neg up to iso from compatibility frames of size {n}: {len(lattices_with_neg_from_comp_frames_size[n])}\")"
   ]
  },
  {
   "cell_type": "code",
   "execution_count": null,
   "id": "9a8cd415",
   "metadata": {},
   "outputs": [],
   "source": [
    "n=5\n",
    "\n",
    "d_n = num_each_size(lattices_from_comp_frames_size[n])\n",
    "d_neg_n = num_each_size(lattices_with_neg_from_comp_frames_size[n])\n",
    "print(f\"Number of lattices of each size arising from compatibility frames of size {n}:\")\n",
    "pprint(d_n)\n",
    "print(f\"Number of lattices with neg of each size arising from compatibility frames of size {n}:\")\n",
    "pprint(d_neg_n)"
   ]
  },
  {
   "cell_type": "markdown",
   "id": "646d6de3",
   "metadata": {},
   "source": [
    "# II Supplement to Section 3.1  <a id='II'></a>\n",
    "\n",
    "In this section, we compute for a given lattice $L$, anti-inflationary operation $\\neg$ on $L$, and set $\\mathrm{V}$ of nonzero elements of $L$, the compatibility frame $(\\mathrm{V},\\vartriangleleft^\\neg_\\mathrm{V})$ from Def. 3.5(i) in the paper.\n",
    "\n",
    "The lattice $L$ is always given as the lattice of fixpoints of some compatibility frame."
   ]
  },
  {
   "cell_type": "markdown",
   "id": "4d651a65",
   "metadata": {},
   "source": [
    "## II.I The compatibility relation of Def. 3.5(i)  <a id='II.I'></a>"
   ]
  },
  {
   "cell_type": "code",
   "execution_count": null,
   "id": "8d9b4eae",
   "metadata": {},
   "outputs": [],
   "source": [
    "def escapes(A,B,neg,V):\n",
    "    \"\"\"checks if A escapes B in V with neg, where neg is represented as a function or dictionary\"\"\"\n",
    "    \n",
    "    Aset = set(A)\n",
    "    Bset = set(B)\n",
    "    if not Aset == set() and not Bset == set():\n",
    "        for C in V:\n",
    "            if callable(neg):\n",
    "                negCset = set(neg(C))\n",
    "            \n",
    "            else:\n",
    "                negCset = set(neg[C])\n",
    "                \n",
    "            if not Aset.issubset(negCset) and Bset.issubset(negCset):\n",
    "                return True\n",
    "            \n",
    "    return False"
   ]
  },
  {
   "cell_type": "code",
   "execution_count": null,
   "id": "1f68ca76",
   "metadata": {},
   "outputs": [],
   "source": [
    "def compat(rel,neg,V,X=None):\n",
    "    \"\"\"where L is the fixpoint lattice of rel, returns the compatibility relation\n",
    "    defined from L, neg, and V as in Def. 3.5(i)\"\"\"\n",
    "    \n",
    "    if X is None:\n",
    "        X = domain(rel)\n",
    "    \n",
    "    fixpts = fixpoints(rel,X)\n",
    "    \n",
    "    comp = []\n",
    "    for A in V:\n",
    "        Aset = set(A)\n",
    "        \n",
    "        if callable(neg):\n",
    "            negAset = set(neg(A))\n",
    "        else:\n",
    "            negAset = set(neg[A])\n",
    "            \n",
    "        for B in V:\n",
    "            Bset = set(B)\n",
    "            if not Bset.issubset(negAset):\n",
    "                passes = True\n",
    "                for C in fixpts:\n",
    "                    Cset = set(C)\n",
    "                    if Bset.issubset(Cset) and not Aset.issubset(Cset):\n",
    "                          if not escapes(A,C,neg,V):\n",
    "                                passes = False\n",
    "                                break\n",
    "                if passes:\n",
    "                    comp.append((A,B))\n",
    "    return comp"
   ]
  },
  {
   "cell_type": "markdown",
   "id": "4bf9b193",
   "metadata": {},
   "source": [
    "## II.II Finding join-irreducibles in the fixpoint lattice  <a id='II.II'></a>"
   ]
  },
  {
   "cell_type": "code",
   "execution_count": null,
   "id": "caf1b2b9",
   "metadata": {},
   "outputs": [],
   "source": [
    "def is_join_irr(A,rel,X = None):\n",
    "    \"\"\"checks if A is join-irreducible in the fixpoint lattice of rel\"\"\"\n",
    "    \n",
    "    if X is None:\n",
    "        X = domain(rel)\n",
    "        \n",
    "    fixpts = fixpoints(rel,X)\n",
    "    Aset = set(A)\n",
    "    \n",
    "    if Aset == set():\n",
    "        return False\n",
    "    \n",
    "    for B in fixpts:\n",
    "        Bset = set(B)\n",
    "        for C in fixpts:\n",
    "            Cset = set(C)\n",
    "            if not Bset == Aset and not Cset == Aset:\n",
    "                union = Bset.union(Cset)\n",
    "                closure_union = set(closure(union,rel,X))\n",
    "                if Aset == closure_union:\n",
    "                    return False\n",
    "        \n",
    "    return True"
   ]
  },
  {
   "cell_type": "code",
   "execution_count": null,
   "id": "e2d0b3cd",
   "metadata": {},
   "outputs": [],
   "source": [
    "def join_irrs(rel,X = None):\n",
    "    \"\"\"Returns the list of all join-irreducibles in the fixpoint lattice of rel\"\"\"\n",
    "    \n",
    "    if X is None:\n",
    "        X = domain(rel)\n",
    "    \n",
    "    ji = []\n",
    "    fixpts = fixpoints(rel,X)\n",
    "    \n",
    "    for A in fixpts:\n",
    "        if is_join_irr(A,rel,X):\n",
    "            ji.append(A)\n",
    "            \n",
    "    return ji"
   ]
  },
  {
   "cell_type": "code",
   "execution_count": null,
   "id": "e92e3bbf",
   "metadata": {},
   "outputs": [],
   "source": [
    "rel = reflexive_closure([(1,0),(2,1)],range(3))\n",
    "\n",
    "print(fixpoints(rel))\n",
    "\n",
    "print(join_irrs(rel))"
   ]
  },
  {
   "cell_type": "markdown",
   "id": "fa9001f6",
   "metadata": {},
   "source": [
    "### Example"
   ]
  },
  {
   "cell_type": "code",
   "execution_count": null,
   "id": "07bcd161",
   "metadata": {},
   "outputs": [],
   "source": [
    "rel = reflexive_closure([(0,1),(1,2),(2,0)],range(3))\n",
    "print(f\"Original compatibility frame: {rel}\")\n",
    "\n",
    "fixpts = fixpoints(rel)\n",
    "print(f\"Original fixpoints: {fixpts}\")\n",
    "\n",
    "print(\"\\n\")\n",
    "\n",
    "l1 = lattice(rel) # This is the lattice we will try to obtain via the representation of Section 3.1\n",
    "\n",
    "# To represent l1 as in Section 3.1, we need to pick neg and V\n",
    "\n",
    "neg = neg_dict(rel) # neg is the protocomplementation defined from rel on the fixpoints lattice of rel\n",
    "V = join_irrs(rel) # V is the set of join-irreducible elements of the fixpoints lattice of rel\n",
    "\n",
    "compat_rel = compat(rel, neg, V) # This is the relation on V defined from l1 and neg as in Definition 3.5(i)\n",
    "print(f\"New compatibility frame: {compat_rel}\")\n",
    "compat_fixpts = fixpoints(compat_rel)\n",
    "print(f\"New fixpoints: {compat_fixpts}\")\n",
    "\n",
    "l2 = lattice(compat_rel)\n",
    "               \n",
    "nx.is_isomorphic(l1,l2)"
   ]
  },
  {
   "cell_type": "markdown",
   "id": "4288c68d",
   "metadata": {},
   "source": [
    "## II.III Generating anti-inflationary functions <a id='II.III'></a>"
   ]
  },
  {
   "cell_type": "code",
   "execution_count": null,
   "id": "c041f587",
   "metadata": {},
   "outputs": [],
   "source": [
    "def f_generator(A, B):\n",
    "    \"\"\"generates all functions from A to B\"\"\"\n",
    "    for b_values in product(B, repeat=len(A)):\n",
    "        yield partial(lambda d, x: d[x], dict(zip(A, b_values)))"
   ]
  },
  {
   "cell_type": "code",
   "execution_count": null,
   "id": "aebeedf3",
   "metadata": {},
   "outputs": [],
   "source": [
    "def anti_inflationary_f_generator(A, B):\n",
    "    \"\"\"generates all functions from A to B that are \n",
    "    anti-inflationary with respect to set inclusion\"\"\"\n",
    "    \n",
    "    out = []\n",
    "    for a in A:\n",
    "        seta = set(a)\n",
    "        out.append([b for b in B if seta == set() or not seta.issubset(set(b))])      \n",
    "        \n",
    "    for b_values in product(*out):\n",
    "        yield partial(lambda d, x: d[x], dict(zip(A, b_values)))"
   ]
  },
  {
   "cell_type": "code",
   "execution_count": null,
   "id": "b4c093b0",
   "metadata": {},
   "outputs": [],
   "source": [
    "A = list(powerset(range(3)))\n",
    "B = list(powerset(range(3)))\n",
    "count = 0\n",
    "for f in tqdm(f_generator(A,B)):\n",
    "    count += 1\n",
    "    \n",
    "print(count)"
   ]
  },
  {
   "cell_type": "code",
   "execution_count": null,
   "id": "64b81c2b",
   "metadata": {},
   "outputs": [],
   "source": [
    "A = list(powerset(range(3)))\n",
    "B = list(powerset(range(3)))\n",
    "count = 0\n",
    "for f in tqdm(anti_inflationary_f_generator(A,B)):\n",
    "    count += 1\n",
    "    \n",
    "print(count)"
   ]
  },
  {
   "cell_type": "code",
   "execution_count": null,
   "id": "2a97b11f",
   "metadata": {},
   "outputs": [],
   "source": [
    "def anti_inflationary_negs(lt,X):\n",
    "    \"\"\"generates all the anti-inflationary functions on the fixpoint lattice lt\n",
    "    up to isomorphism of the resulting lattice expansion\"\"\"\n",
    "    \n",
    "    ltset = set(lt)\n",
    "    \n",
    "    cover = covering(propsubrel(lt))\n",
    "    \n",
    "    lat_exps_of_lt = []\n",
    "    fs = []\n",
    "    Xtuple = tuple(X)\n",
    "    \n",
    "    for f in anti_inflationary_f_generator(ltset,ltset):\n",
    "            newlat = True\n",
    "            \n",
    "            l = nx.MultiDiGraph()\n",
    "            l.add_nodes_from(lt)\n",
    "            l.add_edges_from(cover, weight=0)\n",
    "            \n",
    "            for A in ltset:\n",
    "                l.add_edge(A,f(A), weight=1)\n",
    "            \n",
    "            for l2 in lat_exps_of_lt:\n",
    "                if nx.is_isomorphic(l,l2):\n",
    "                    newlat = False\n",
    "\n",
    "            if newlat:\n",
    "                lat_exps_of_lt.append(l)\n",
    "                f_dict = {A: f(A) for A in ltset}\n",
    "                fs.append(f_dict)\n",
    "                    \n",
    "    return fs"
   ]
  },
  {
   "cell_type": "code",
   "execution_count": null,
   "id": "38cb5f88",
   "metadata": {},
   "outputs": [],
   "source": [
    "def anti_inflationary_negs_V(lt,V,X):\n",
    "    \"\"\"like the previous function be we only look at anti-inflationary functions from V to lt\"\"\"\n",
    "    \n",
    "    Vset = set(V)\n",
    "    ltset = set(lt)\n",
    "    \n",
    "    cover = covering(propsubrel(lt))\n",
    "    \n",
    "    lat_exps_of_lt = []\n",
    "    fs = []\n",
    "    Xtuple = tuple(X)\n",
    "    \n",
    "    for f in anti_inflationary_f_generator(Vset,ltset):\n",
    "            newlat = True\n",
    "            \n",
    "            l = nx.MultiDiGraph()\n",
    "            l.add_nodes_from(lt)\n",
    "            l.add_edges_from(cover, weight=0)\n",
    "            \n",
    "            for A in Vset:\n",
    "                l.add_edge(A,f(A), weight=1)\n",
    "            \n",
    "            for l2 in lat_exps_of_lt:\n",
    "                if nx.is_isomorphic(l,l2):\n",
    "                    newlat = False\n",
    "\n",
    "            if newlat:\n",
    "                lat_exps_of_lt.append(l)\n",
    "                f_dict = {A: f(A) for A in Vset}\n",
    "                fs.append(f_dict)\n",
    "                    \n",
    "    return fs"
   ]
  },
  {
   "cell_type": "markdown",
   "id": "6bc0ad7c",
   "metadata": {},
   "source": [
    "## II.IV Checking whether lattice(s) can be represented as in Def. 3.5(i) <a id='II.IV'></a>"
   ]
  },
  {
   "cell_type": "code",
   "execution_count": null,
   "id": "1708cf4d",
   "metadata": {},
   "outputs": [],
   "source": [
    "def represent_lat(rel,verbose = True):\n",
    "    \"\"\"checks whether the fixpoint lattice of rel is representable as in Section 3.1\"\"\"\n",
    "\n",
    "    fixpts = fixpoints(rel)\n",
    "    l1 = lattice(rel)\n",
    "\n",
    "    if verbose == True:\n",
    "        print(f\"Original compatibility relation: {rel}\")\n",
    "        print(f\"Lattice of fixpoints: {fixpts}\")\n",
    "        nx.draw(l1)\n",
    "        plt.show()\n",
    "    \n",
    "    k = len(domain(rel))\n",
    "    can_rep = False\n",
    "    ji = join_irrs(rel)\n",
    "    \n",
    "    for f in anti_inflationary_f_generator(ji,fixpts):\n",
    "        comp = compat(rel,f,ji,domain(rel))\n",
    "        l2 = lattice(comp)\n",
    "        if nx.is_isomorphic(l1,l2):\n",
    "            can_rep = True\n",
    "            if verbose == True:\n",
    "                print(\"Can find a neg and V to represent lattice via Def. 3.5(i).\")\n",
    "                print(f\"V is the set of join-irreducibles: {ji}\")\n",
    "                print(f\"The neg operation is: {f}\")\n",
    "                print(f\"The compatibility relation from Def. 3.5(i) is: {comp}\")\n",
    "                print(\"\\n\")\n",
    "            break\n",
    "            \n",
    "    if can_rep == False:\n",
    "        for V in powerset(fixpts):\n",
    "            if () not in V:\n",
    "                for f in anti_inflationary_f_generator(V,fixpts):\n",
    "                    comp = compat(rel,f,V,domain(rel))\n",
    "                    l2 = lattice(comp)\n",
    "                    if nx.is_isomorphic(l1,l2):\n",
    "                        can_rep = True\n",
    "                        if verbose == True:\n",
    "                            print(\"Can find a neg and V to represent lattice via Def. 3.5(i).\")\n",
    "                            print(f\"The subset V is: {V}\")\n",
    "                            print(f\"The neg operation is: {f}\")\n",
    "                            print(f\"The compatibility relation from Def. 3.5(i) is: {comp}\")\n",
    "                            print(\"\\n\")\n",
    "                        break\n",
    "            if can_rep == True:\n",
    "                break\n",
    "        \n",
    "    if can_rep == False:\n",
    "        print(\"Can't find a neg and V to represent lattice via Def. 3.5(i).\")\n",
    "        print(\"\\n\")"
   ]
  },
  {
   "cell_type": "markdown",
   "id": "9e512b94",
   "metadata": {},
   "source": [
    "Next we verify that for every lattice $L$ of size $\\leq 7$, there is a $\\neg$ and $\\mathrm{V}$ such that $L$ is isomorphic to $\\mathfrak{L}(\\mathrm{V},\\vartriangleleft^\\neg_\\mathrm{V})$. We will verify this for every lattices of size $\\leq 8$ in Section II.V below."
   ]
  },
  {
   "cell_type": "code",
   "execution_count": null,
   "id": "ee5d2c6c",
   "metadata": {},
   "outputs": [],
   "source": [
    "for n in range(2,8):\n",
    "    count = 0\n",
    "    for rel in comp_frames_for_lats_size[n]:\n",
    "        count +=1\n",
    "        print(f\"{n},{count}\")\n",
    "        represent_lat(rel)"
   ]
  },
  {
   "cell_type": "markdown",
   "id": "7a42dbec",
   "metadata": {},
   "source": [
    "Among lattice up to size 6, for all but one, we can take $\\mathrm{V}$ in the representation to be the set of join-irreducible elements. The one exception is the following."
   ]
  },
  {
   "cell_type": "code",
   "execution_count": null,
   "id": "0674541f",
   "metadata": {},
   "outputs": [],
   "source": [
    "rel = [(0, 2), (2, 0), (0, 3), (0, 4), (4, 0), (1, 3), (3, 1), (4, 1), (2, 4), (4, 2), (0, 0), (1, 1), (2, 2), (3, 3), (4, 4)]\n",
    "\n",
    "represent_lat(rel)"
   ]
  },
  {
   "cell_type": "markdown",
   "id": "f75968a8",
   "metadata": {},
   "source": [
    "## II.V Checking whether a lattice can be represented as in Def. 3.5(i) for a given $\\neg$ and/or $\\mathrm{V}$ <a id='II.V'></a>"
   ]
  },
  {
   "cell_type": "code",
   "execution_count": null,
   "id": "4332c385",
   "metadata": {},
   "outputs": [],
   "source": [
    "def represent_lat_with_neg_V(rel, neg, V, verbose = True):\n",
    "    \"\"\"checks whether the fixpoint lattice of rel is successfully represented\n",
    "    by the compatibility relation defined from f and V as in Definition 3.5(i)\"\"\"\n",
    "    \n",
    "    fixpts = fixpoints(rel)\n",
    "    l1 = lattice(rel)\n",
    "    \n",
    "    if verbose == True:\n",
    "        print(f\"Original compatibility relation: {rel}\")\n",
    "        print(f\"Lattice of fixpoints: {fixpts}\")\n",
    "        nx.draw(l1)\n",
    "        plt.show()\n",
    "    \n",
    "    comp = compat(rel,neg,V,domain(rel))\n",
    "    l2 = lattice(comp)\n",
    "\n",
    "    if nx.is_isomorphic(l1,l2):\n",
    "        if verbose == True:\n",
    "            print(\"Can represent lattice via Def. 3.5(i) with the given neg and V.\")\n",
    "            print(f\"The subset V is: {V}\")\n",
    "            print(f\"The neg operation is: {neg}\")\n",
    "            print(f\"The compatibility relation from Definition 3.5(i) is: {comp}\") \n",
    "               \n",
    "    else:\n",
    "        print(\"Can't represent lattice via Def. 3.5(i) with the given neg and V.\")\n",
    "        print(\"\\n\")"
   ]
  },
  {
   "cell_type": "code",
   "execution_count": null,
   "id": "85af05c7",
   "metadata": {},
   "outputs": [],
   "source": [
    "# An example\n",
    "\n",
    "rel = [(0, 2), (2, 0), (0, 3), (1, 3), (3, 1), (0, 0), (1, 1), (2, 2), (3, 3)]\n",
    "\n",
    "neg = neg_dict(rel)\n",
    "\n",
    "V = join_irrs(rel)\n",
    "\n",
    "represent_lat_with_neg_V(rel,neg,V)"
   ]
  },
  {
   "cell_type": "code",
   "execution_count": null,
   "id": "88d0d0a9",
   "metadata": {},
   "outputs": [],
   "source": [
    "def represent_lat_with_neg(rel,neg, verbose = True):\n",
    "    \"\"\"checks whether there is a V such that fixpoint lattice of rel is successfully represented\n",
    "    by the compatibility relation defined from neg and V as in Definition 3.5(i)\"\"\"\n",
    "    \n",
    "    fixpts = fixpoints(rel)\n",
    "    l1 = lattice(rel)\n",
    "\n",
    "    if verbose == True:\n",
    "        print(f\"Original compatibility relation: {rel}\")\n",
    "        print(f\"Lattice of fixpoints: {fixpts}\")\n",
    "        nx.draw(l1)\n",
    "        plt.show()\n",
    "    \n",
    "    k = len(domain(rel))\n",
    "    can_rep = False\n",
    "    ji = join_irrs(rel)\n",
    "    \n",
    "    comp = compat(rel,neg,ji,domain(rel))\n",
    "    l2 = lattice(comp)\n",
    "    if nx.is_isomorphic(l1,l2):\n",
    "        can_rep = True\n",
    "        if verbose == True:\n",
    "            print(\"Can find a V to represent lattice via Def. 3.5(i) with the given neg.\")\n",
    "            print(f\"V is the set of join-irreducibles: {ji}\")\n",
    "            print(f\"The anti-inflationary operation is: {neg}\")\n",
    "            print(f\"The compatibility relation from Def. 3.5(i) is: {comp}\")\n",
    "            print(\"\\n\")\n",
    "\n",
    "    if can_rep == False:\n",
    "        for V in powerset(fixpts):\n",
    "            if () not in V:\n",
    "                comp = compat(rel,neg,V,domain(rel))\n",
    "                l2 = lattice(comp)\n",
    "                if nx.is_isomorphic(l1,l2):\n",
    "                    can_rep = True\n",
    "                    if verbose == True:\n",
    "                        print(\"Can find a V to represent lattice via Def. 3.5(i) with the given neg.\")\n",
    "                        print(f\"The subset V is: {V}\")\n",
    "                        print(f\"The neg operation is: {neg}\")\n",
    "                        print(f\"The compatibility relation from Def. 3.5(i) is: {comp}\")\n",
    "                        print(\"\\n\")\n",
    "                    break\n",
    "        \n",
    "    if can_rep == False:\n",
    "        print(\"Can't find a V to represent lattice via Def. 3.5(i) with the given neg.\")\n",
    "        print(\"\\n\")"
   ]
  },
  {
   "cell_type": "code",
   "execution_count": null,
   "id": "4aeeed04",
   "metadata": {},
   "outputs": [],
   "source": [
    "# Continuing the previous example\n",
    "\n",
    "rel = [(0, 2), (2, 0), (0, 3), (1, 3), (3, 1), (0, 0), (1, 1), (2, 2), (3, 3)]\n",
    "\n",
    "neg = neg_dict(rel)\n",
    "\n",
    "represent_lat_with_neg(rel,neg)"
   ]
  },
  {
   "cell_type": "code",
   "execution_count": null,
   "id": "be9361e7",
   "metadata": {},
   "outputs": [],
   "source": [
    "def represent_lat_with_V(rel, V, verbose = True):\n",
    "    \"\"\"checks whether there is a neg such that fixpoint lattice of rel is successfully represented\n",
    "    by the compatibility relation defined from neg and V as in Definition 3.5(i)\"\"\"\n",
    "\n",
    "    fixpts = fixpoints(rel)\n",
    "    l1 = lattice(rel)\n",
    "\n",
    "    if verbose == True:\n",
    "        print(f\"Original compatibility relation: {rel}\")\n",
    "        print(f\"Lattice of fixpoints: {fixpts}\")\n",
    "        nx.draw(l1)\n",
    "        plt.show()\n",
    "    \n",
    "    k = len(domain(rel))\n",
    "    can_rep = False\n",
    "\n",
    "    for neg in anti_inflationary_f_generator(V,fixpts):\n",
    "        comp = compat(rel,neg,V,domain(rel))\n",
    "        l2 = lattice(comp)\n",
    "        if nx.is_isomorphic(l1,l2):\n",
    "            can_rep = True\n",
    "            if verbose == True:\n",
    "                print(\"Can find a neg to represent lattice via Def. 3.5(i) with the given V.\")\n",
    "                print(f\"The subset V is: {V}\")\n",
    "                print(f\"The neg operation is: {neg}\")\n",
    "                print(f\"The compatibility relation from Def. 3.5(i) is: {comp}\")\n",
    "                print(\"\\n\")\n",
    "            break\n",
    "        \n",
    "    if can_rep == False:\n",
    "        print(\"Can't find a neg to represent lattice via Def. 3.5(i) with the given V.\")\n",
    "        print(\"\\n\")"
   ]
  },
  {
   "cell_type": "code",
   "execution_count": null,
   "id": "d93fa8fc",
   "metadata": {},
   "outputs": [],
   "source": [
    "# Continuing the previous example\n",
    "\n",
    "rel = [(0, 2), (2, 0), (0, 3), (1, 3), (3, 1), (0, 0), (1, 1), (2, 2), (3, 3)]\n",
    "\n",
    "V = join_irrs(rel)\n",
    "\n",
    "represent_lat_with_V(rel,V)"
   ]
  },
  {
   "cell_type": "markdown",
   "id": "8ae701e4",
   "metadata": {},
   "source": [
    "## II.VI All lattices of size $\\leq 8$ can be represented as in Def. 3.5(i)<a id='II.VI'></a>"
   ]
  },
  {
   "cell_type": "markdown",
   "id": "b016c7a1",
   "metadata": {},
   "source": [
    "We already saw in Section II.IV that all lattices of size $\\leq 7$ can be represented by compatibility frames via Def. 3.5(i). In this section, we establish this for lattices of size $\\leq 8$."
   ]
  },
  {
   "cell_type": "markdown",
   "id": "87dd8925",
   "metadata": {},
   "source": [
    "Running the code from Section II.IV for comp_frames_for_lats_size[8] takes a long time. I did so and saved all the relevant data in a pickle file: the file generate/rels_for_lats_size_8_with_neg_and_V.pkl stores a dictionary whose values are triples $(\\mathcal{F}, \\neg, \\mathrm{V})$ where $\\mathcal{F}$ is a compatibility frame that gives rise to a lattice $L$ of size $8$, and $\\neg$ and $\\mathrm{V}$ are such that $L$ is isomorphic to $\\mathfrak{L}(\\mathrm{V},\\vartriangleleft^\\neg_\\mathrm{V})$. There are 222 such triples, one for each of the lattices of size $8$."
   ]
  },
  {
   "cell_type": "code",
   "execution_count": null,
   "id": "69d85b94",
   "metadata": {},
   "outputs": [],
   "source": [
    "rels_for_lats_size_8_with_neg_and_V = pickle.load(open(\"generated/rels_for_lats_size_8_with_neg_and_V.pkl\", 'rb'))"
   ]
  },
  {
   "cell_type": "code",
   "execution_count": null,
   "id": "2e3c94b3",
   "metadata": {},
   "outputs": [],
   "source": [
    "len(lattices([rels_for_lats_size_8_with_neg_and_V[n][0] for n in range(222)]))\n",
    "# Double checking that we are considering 22 non-isomorphic lattices"
   ]
  },
  {
   "cell_type": "code",
   "execution_count": null,
   "id": "e31126d0",
   "metadata": {},
   "outputs": [],
   "source": [
    "for n in range(0,222):\n",
    "    triple = rels_for_lats_size_8_with_neg_and_V[n]\n",
    "    represent_lat_with_neg_V(triple[0], triple[1], triple[2], verbose = False) # delete 'verbose = False' to see analysis of each lattice"
   ]
  },
  {
   "cell_type": "markdown",
   "id": "b3624aa7",
   "metadata": {},
   "source": [
    "## II.VII Verification of Conjecture 3.13 for lattices of size $\\leq 15$<a id='II.VII'></a>\n",
    "\n",
    "In this section, we check the sufficient condition in Footnote 5 for a finite lattice to be representable by a smaller compatibility frame as in Conjecture 3.13. "
   ]
  },
  {
   "cell_type": "markdown",
   "id": "b04e9739",
   "metadata": {},
   "source": [
    "As our source of lattices, we use the catalogue generated by Gebhardt and Tawn:\n",
    "\n",
    "Gebhardt, V. and S. Tawn (2020), \"Constructing unlabelled lattices,\" *Journal of Algebra*, Vol. 545, pp. 213–236.\n",
    "\n",
    "Their lattices of size $n\\leq 12$ can be found in lattices/unlabelled-$n$.cats.txt. \n",
    "\n",
    "I ran the code below on lattices of size $13$ and $14$ as well, but the files for these lattices are too big for GitHub. They can be found at https://research-data.westernsydney.edu.au/published/ff5d9c10519311ecb15399911543e199/"
   ]
  },
  {
   "cell_type": "markdown",
   "id": "42cdb720",
   "metadata": {},
   "source": [
    "To find the minimum edge covering for a bipartite graph, we use the min_edge_cover function in networkx, which is based on:\n",
    "\n",
    "J. E. Hopcroft and R. M. Karp (1973), \"An $n^{5/2}$ algorithm for maximum matchings in bipartite graphs,\" *SIAM J. Comput*, Vol. 2, No. 4, pp. 225-231."
   ]
  },
  {
   "cell_type": "markdown",
   "id": "1a9b0c80",
   "metadata": {},
   "source": [
    "## Lattices"
   ]
  },
  {
   "cell_type": "code",
   "execution_count": null,
   "id": "73d68d8e",
   "metadata": {},
   "outputs": [],
   "source": [
    "def readlats(filename,n):\n",
    "    \"\"\"Read in lattices of size n represented by their covering relations \n",
    "    in the format of Gebhardt and Tawn\"\"\"\n",
    "    \n",
    "    file = open(filename)\n",
    "    lines = file.readlines()\n",
    "    lats = []\n",
    "\n",
    "    for line in tqdm(lines):\n",
    "        cover_rel = []\n",
    "        l = list(line)\n",
    "\n",
    "        for A in range(1,n+1):\n",
    "            for B in range(1,n+1):\n",
    "                if A<B:\n",
    "                    if l[int((((B-1)*(B-2))/2)+A)-1] == '1':\n",
    "                        cover_rel.append((A,B))\n",
    "        \n",
    "        lats.append(cover_rel)\n",
    "\n",
    "    return lats"
   ]
  },
  {
   "cell_type": "code",
   "execution_count": null,
   "id": "80c0d70e",
   "metadata": {},
   "outputs": [],
   "source": [
    "lats_size = {}\n",
    "\n",
    "for n in range(2,13):\n",
    "    lats_size[n] = readlats(f\"lattices/lattices{n}.txt\",n)"
   ]
  },
  {
   "cell_type": "code",
   "execution_count": null,
   "id": "ca70fa7b",
   "metadata": {},
   "outputs": [],
   "source": [
    "def graph_from_cover(cover, n):\n",
    "    \"\"\"Given a covering relation of a lattice of size n, \n",
    "    return a digraph where an arrow from y to x means that x covers y\"\"\"\n",
    "    \n",
    "    g = nx.DiGraph()\n",
    "    g.add_nodes_from(range(1,n+1))\n",
    "    \n",
    "    for x in range(1,n+1):\n",
    "        for y in range(1,n+1):\n",
    "            if (x,y) in cover:\n",
    "                g.add_edge(y,x)\n",
    "    return g"
   ]
  },
  {
   "cell_type": "code",
   "execution_count": null,
   "id": "987bbb5f",
   "metadata": {},
   "outputs": [],
   "source": [
    "for lat in lats_size[5]:\n",
    "\n",
    "    g = graph_from_cover(lat,5)\n",
    "\n",
    "    nx.draw(g)\n",
    "    plt.show()"
   ]
  },
  {
   "cell_type": "code",
   "execution_count": null,
   "id": "3b9744fa",
   "metadata": {},
   "outputs": [],
   "source": [
    "def join_irreducibles(cover,n):\n",
    "    \"\"\"Given a covering relation of a lattice of size n, return the join-irreducibles\"\"\"\n",
    "    \n",
    "    ji = []\n",
    "    for x in range(1,n+1):\n",
    "        if len([y for y in range(1,n+1) if (x,y) in cover ])==1:\n",
    "            ji.append(x)\n",
    "            \n",
    "    return ji"
   ]
  },
  {
   "cell_type": "code",
   "execution_count": null,
   "id": "db12b1c6",
   "metadata": {},
   "outputs": [],
   "source": [
    "def meet_irreducibles(cover,n):\n",
    "    \"\"\"Given a covering relation of a lattice of size n, return the meet-irreducibles\"\"\"\n",
    "    \n",
    "    mi = []\n",
    "    for x in range(1,n+1):\n",
    "        if len([y for y in range(1,n+1) if (y,x) in cover ])==1:\n",
    "            mi.append(x)\n",
    "            \n",
    "    return mi"
   ]
  },
  {
   "cell_type": "code",
   "execution_count": null,
   "id": "7ec0a462",
   "metadata": {},
   "outputs": [],
   "source": [
    "join_irreducibles(lats_size[11][42],11)"
   ]
  },
  {
   "cell_type": "code",
   "execution_count": null,
   "id": "5a7278f8",
   "metadata": {},
   "outputs": [],
   "source": [
    "meet_irreducibles(lats_size[11][42],11)"
   ]
  },
  {
   "cell_type": "markdown",
   "id": "79468329",
   "metadata": {},
   "source": [
    "### The bipartite graph of irreducibles"
   ]
  },
  {
   "cell_type": "code",
   "execution_count": null,
   "id": "37e1ef4d",
   "metadata": {},
   "outputs": [],
   "source": [
    "from networkx import bipartite"
   ]
  },
  {
   "cell_type": "code",
   "execution_count": null,
   "id": "3899540e",
   "metadata": {},
   "outputs": [],
   "source": [
    "def bipartite_of_irreducibles(cover,n):\n",
    "    \"\"\"Given the covering relation of a lattice of size n, return the bipartite graph of join- and meet-irreducibles\n",
    "    as in Footnote 5\"\"\"\n",
    "    \n",
    "    mi = meet_irreducibles(cover,n)\n",
    "    ji = join_irreducibles(cover,n)\n",
    "    g = graph_from_cover(cover,n)\n",
    "    \n",
    "    gt = nx.transitive_closure(g,reflexive=True) \n",
    "    # We use gt to check that a given join-irreducible is not under a meet-irreducible in the lattice\n",
    "    \n",
    "    b = nx.Graph()\n",
    "    b.add_nodes_from([(x,0) for x in mi],bipartite=0)\n",
    "    b.add_nodes_from([(x,1) for x in ji],bipartite=1)\n",
    "    \n",
    "    for x in ji:\n",
    "        for y in mi:\n",
    "            if not (x,y) in gt.edges:\n",
    "                b.add_edge((x,1),(y,0))\n",
    "                \n",
    "    return b"
   ]
  },
  {
   "cell_type": "code",
   "execution_count": null,
   "id": "c89b5dba",
   "metadata": {},
   "outputs": [],
   "source": [
    "def display_bipartite(b):\n",
    "    \"\"\"Display the bipartite graph b using networkx's bipartite layout\"\"\"\n",
    "    \n",
    "    top_nodes = {n for n, d in b.nodes(data=True) if d[\"bipartite\"] == 0}\n",
    "    pos = nx.bipartite_layout(b,top_nodes)\n",
    "    nx.draw(b, pos)\n",
    "    plt.show()"
   ]
  },
  {
   "cell_type": "code",
   "execution_count": null,
   "id": "6a666fb8",
   "metadata": {},
   "outputs": [],
   "source": [
    "b = bipartite_of_irreducibles(lats_size[11][42],11)\n",
    "\n",
    "display_bipartite(b)"
   ]
  },
  {
   "cell_type": "markdown",
   "id": "2b8a1588",
   "metadata": {},
   "source": [
    "### Minimum edge covering"
   ]
  },
  {
   "cell_type": "code",
   "execution_count": null,
   "id": "c358faa2",
   "metadata": {},
   "outputs": [],
   "source": [
    "bipartite_of_irreducibles(lats_size[5][0],5).edges"
   ]
  },
  {
   "cell_type": "code",
   "execution_count": null,
   "id": "477c362e",
   "metadata": {},
   "outputs": [],
   "source": [
    "nx.min_edge_cover(bipartite_of_irreducibles(lats_size[5][0],5))"
   ]
  },
  {
   "cell_type": "markdown",
   "id": "0ed2bea1",
   "metadata": {},
   "source": [
    "The networkx min_edge_cover function sometimes outputs a redundant representation of a mininum edge covering containing both $(x,y)$ and $(y,x)$ to represent an undirected edge between $x$ and $y$, so we need the following."
   ]
  },
  {
   "cell_type": "code",
   "execution_count": null,
   "id": "c408e68e",
   "metadata": {},
   "outputs": [],
   "source": [
    "def non_redundant(rel):\n",
    "    \"\"\"Turns rel into a non-redundant representation of an undirected graph\"\"\"\n",
    "    newrel = []\n",
    "    \n",
    "    for pair in rel:\n",
    "        if not pair in newrel and not (pair[1],pair[0]) in newrel:\n",
    "            newrel.append(pair)\n",
    "            \n",
    "    return newrel\n",
    "    "
   ]
  },
  {
   "cell_type": "markdown",
   "id": "0fca0ba4",
   "metadata": {},
   "source": [
    "### Finding an edge covering smaller than the lattice"
   ]
  },
  {
   "cell_type": "code",
   "execution_count": null,
   "id": "f5712eca",
   "metadata": {},
   "outputs": [],
   "source": [
    "def smaller_min_edge_cover(lat,n):\n",
    "    \"\"\"Checks for a given lattice of size n whether the minimum edge cover for \n",
    "    its bipartite graph of join-irreducibles and meet-irreducibles\n",
    "    is smaller than the lattice itself\"\"\"\n",
    "    \n",
    "    b = bipartite_of_irreducibles(lat,n)\n",
    "    \n",
    "    smaller = True\n",
    "    \n",
    "    if len(b.edges) >= n:\n",
    "        if len(non_redundant(nx.min_edge_cover(b))) >= n:\n",
    "            smaller = False\n",
    "            \n",
    "    return smaller"
   ]
  },
  {
   "cell_type": "code",
   "execution_count": null,
   "id": "8c32db57",
   "metadata": {},
   "outputs": [],
   "source": [
    "for n in range(2,13):\n",
    "    \n",
    "    # n=12 takes about 10 minutes\n",
    "    # n=13 takes about an hour\n",
    "    # n=14 takes about 8 hours\n",
    "\n",
    "    verified = True\n",
    "\n",
    "    for lat in tqdm(lats_size[n]):\n",
    "        if not smaller_min_edge_cover(lat,n): \n",
    "                print(\"Minimum edge cover not smaller than lattice.\")\n",
    "                print(lat)\n",
    "                verified = False\n",
    "                break\n",
    "\n",
    "    if verified == True:\n",
    "        print(f\"Conjecture 3.13 verified for lattices of size {n}.\")"
   ]
  },
  {
   "cell_type": "markdown",
   "id": "85a008d5",
   "metadata": {},
   "source": [
    "I also ran the code for $n=13$ and $n=14$, which verified Conjecture 3.13 for lattices up to size $14$. For $n=15$, the text file lattices15.txt is 16GB, so instead of loading the lines into a list we read the file line by line as follows."
   ]
  },
  {
   "cell_type": "code",
   "execution_count": null,
   "id": "e09961c8",
   "metadata": {},
   "outputs": [],
   "source": [
    "#n = 15 #takes a couple days\n",
    "n = 2\n",
    "\n",
    "for line in open(f\"lattices/lattices{n}.txt\"):\n",
    " \n",
    "        cover_rel = []\n",
    "        l = list(line)\n",
    "\n",
    "        for A in range(1,n+1):\n",
    "            for B in range(1,n+1):\n",
    "                if A<B:\n",
    "                    if l[int((((B-1)*(B-2))/2)+A)-1] == '1':\n",
    "                        cover_rel.append((A,B))\n",
    "\n",
    "        if not smaller_min_edge_cover(cover_rel,n): \n",
    "            print(\"Minimum edge cover not smaller than lattice.\")\n",
    "            print(lat)\n",
    "            verified = False\n",
    "            break "
   ]
  },
  {
   "cell_type": "markdown",
   "id": "01e2b020",
   "metadata": {},
   "source": [
    "Running the above code for $n=15$ took about 2 days and verified Conjecture 3.13 for lattices up to size 15."
   ]
  },
  {
   "cell_type": "markdown",
   "id": "2514b988",
   "metadata": {},
   "source": [
    "# III. Supplement to Appendix A.1 <a id='III'></a>"
   ]
  },
  {
   "cell_type": "markdown",
   "id": "82a4892b",
   "metadata": {},
   "source": [
    "## III.I Generating protocomplementations <a id='III.I'></a>\n",
    "\n",
    "In this section, we take a lattice arising from a compatibility frame and expand it with all possible protocomplementations as in Definition 2.14 in the paper, not just the protocomplementation arising from the compatibility frame."
   ]
  },
  {
   "cell_type": "code",
   "execution_count": null,
   "id": "9d648d64",
   "metadata": {},
   "outputs": [],
   "source": [
    "def antitone(f,dom):\n",
    "    \"\"\"checks whether a function on dom is an antitone wrt set inclusion\"\"\"\n",
    "    \n",
    "    for A in dom:\n",
    "        Aset = set(A)\n",
    "        fAset = set(f(A))\n",
    "        \n",
    "        for B in dom:\n",
    "            Bset = set(B)\n",
    "            fBset = set(f(B))         \n",
    "            if Aset.issubset(Bset) and not fBset.issubset(fAset):\n",
    "                return False\n",
    "            \n",
    "    return True"
   ]
  },
  {
   "cell_type": "code",
   "execution_count": null,
   "id": "d5093ca0",
   "metadata": {},
   "outputs": [],
   "source": [
    "def expand_with_protocomps(lt, X):\n",
    "    \"\"\"given a list of tuples representing a bounded meet-semilattice L of subsets of X\n",
    "    return all nonisomorphic expansions of L with a protocomplementation\"\"\"\n",
    "    \n",
    "    ltset = set(lt)\n",
    "    \n",
    "    cover = covering(propsubrel(lt))\n",
    "    \n",
    "    lat_exps_of_lt = []\n",
    "    Xtuple = tuple(X)\n",
    "    \n",
    "    for f in anti_inflationary_f_generator(ltset,ltset):\n",
    "        if f(()) == Xtuple: # make sure $f(0) = 1$ as required for a protocomplementation\n",
    "            if antitone(f,ltset):\n",
    "                newlat = True\n",
    "            \n",
    "                l = nx.MultiDiGraph()\n",
    "                l.add_nodes_from(lt)\n",
    "                l.add_edges_from(cover, weight=0)\n",
    "            \n",
    "                for A in ltset:\n",
    "                    l.add_edge(A,f(A), weight=1)\n",
    "            \n",
    "                for l2 in lat_exps_of_lt:\n",
    "                    if nx.is_isomorphic(l,l2):\n",
    "                        newlat = False\n",
    "                        break\n",
    "                if newlat:\n",
    "                    lat_exps_of_lt.append(l)\n",
    "            \n",
    "    return lat_exps_of_lt"
   ]
  },
  {
   "cell_type": "code",
   "execution_count": null,
   "id": "a88e889d",
   "metadata": {},
   "outputs": [],
   "source": [
    "def expand_all_with_protocomps(lts,X):\n",
    "    \n",
    "    lat_exps_of_lts = []\n",
    "    for lt in lts:\n",
    "        lat_exps = expand_with_protocomps(lt, X)\n",
    "        lat_exps_of_lts = lat_exps_of_lts + lat_exps\n",
    "    \n",
    "    return lat_exps_of_lts"
   ]
  },
  {
   "cell_type": "code",
   "execution_count": null,
   "id": "cd3f3e7f",
   "metadata": {},
   "outputs": [],
   "source": [
    "def protocomps(lt, X):\n",
    "    \"\"\"given a list of tuples representing a bounded meet-semilattice L of subsets of X\n",
    "    returns all protocomplementations up to isomorphism of the expansion of L\"\"\"\n",
    "    \n",
    "    ltset = set(lt)\n",
    "    \n",
    "    cover = covering(propsubrel(lt))\n",
    "    \n",
    "    lat_exps_of_lt = []\n",
    "    fs = []\n",
    "    Xtuple = tuple(X)\n",
    "    \n",
    "    for f in anti_inflationary_f_generator(ltset,ltset):\n",
    "        if f(()) == Xtuple: # make sure $f(0) = 1$ as required for a protocomplementation\n",
    "            if antitone(f,ltset):\n",
    "                newlat = True\n",
    "            \n",
    "                l = nx.MultiDiGraph()\n",
    "                l.add_nodes_from(lt)\n",
    "                l.add_edges_from(cover, weight=0)\n",
    "            \n",
    "                for A in ltset:\n",
    "                    l.add_edge(A,f(A), weight=1)\n",
    "            \n",
    "                for l2 in lat_exps_of_lt:\n",
    "                    if nx.is_isomorphic(l,l2):\n",
    "                        newlat = False\n",
    "\n",
    "                if newlat:\n",
    "                    lat_exps_of_lt.append(l)\n",
    "                    f_dict = {A: f(A) for A in ltset}\n",
    "                    fs.append(f_dict)\n",
    "                    \n",
    "    return fs"
   ]
  },
  {
   "cell_type": "code",
   "execution_count": null,
   "id": "5ef4e64e",
   "metadata": {},
   "outputs": [],
   "source": [
    "# An example\n",
    "\n",
    "rel = reflexive_closure([(1,0),(2,1)],range(3))\n",
    "\n",
    "for d in protocomps(fixpoints(rel),range(3)):\n",
    "    print(d)"
   ]
  },
  {
   "cell_type": "code",
   "execution_count": null,
   "id": "061810f1",
   "metadata": {},
   "outputs": [],
   "source": [
    "rel = [(0, 2), (2, 0), (0, 3), (4, 0), (2, 1), (1, 3), (3, 1), (4, 1), (4, 2), (4, 3), (0, 0), (1, 1), (2, 2), (3, 3), (4, 4)]\n",
    "# The fixpoint lattice of this rel admits only one protocomplementation\n",
    "\n",
    "print(protocomps(fixpoints(rel),range(5)))"
   ]
  },
  {
   "cell_type": "markdown",
   "id": "7b83dc1a",
   "metadata": {},
   "source": [
    "## III.II Lattices for which no protocomplementation makes the representation of Def. 3.5(i) apply <a id='III.IV'></a>\n",
    "\n",
    "So far, for every finite lattice $L$ we have tested, we have found an anti-inflationry operation $\\neg$ and set $\\mathrm{V}$ of nonzero elements such that $L$ is isomorphic to $\\mathfrak{L}(\\mathrm{V},\\vartriangleleft^\\neg_\\mathrm{V})$. However, we will now see that we cannot always do this with a protocomplementation $\\neg$.\n"
   ]
  },
  {
   "cell_type": "code",
   "execution_count": null,
   "id": "3131378b",
   "metadata": {},
   "outputs": [],
   "source": [
    "def represent_lat_using_proto(rel, verbose = True):\n",
    "    \"\"\"checks whether the fixpoint lattice of rel is representable as in Section 3.1\n",
    "    when neg is a protocomplementation\"\"\"\n",
    "\n",
    "    fixpts = fixpoints(rel)\n",
    "    l1 = lattice(rel)\n",
    "\n",
    "    if verbose == True:\n",
    "        print(f\"Original compatibility relation: {rel}\")\n",
    "        print(f\"Lattice of fixpoints: {fixpts}\")\n",
    "        nx.draw(l1)\n",
    "        plt.show()\n",
    "    \n",
    "    k = len(domain(rel))\n",
    "    can_rep = False\n",
    "    ji = join_irrs(rel)\n",
    "    \n",
    "    for f in protocomps(fixpts,range(k)):\n",
    "        comp = compat(rel,f,ji)\n",
    "        l2 = lattice(comp)\n",
    "        if nx.is_isomorphic(l1,l2):\n",
    "            can_rep = True\n",
    "            if verbose == True:\n",
    "                print(\"Can find a protocomplementation and V to represent lattice via Def. 3.5(i).\")\n",
    "                print(f\"V is the set of join-irreducibles: {ji}\")\n",
    "                print(f\"The protocomplementation is: {f}\")\n",
    "                print(f\"The compatibility relation from Def. 3.5(i) is: {comp}\")\n",
    "                print(\"\\n\")\n",
    "            break\n",
    "    \n",
    "    if can_rep == False:\n",
    "        for V in powerset(fixpts):\n",
    "            if () not in V:\n",
    "                for f in protocomps(fixpts,range(k)):\n",
    "                    comp = compat(rel,f,V,domain(rel))\n",
    "                    l2 = lattice(comp)\n",
    "                    if nx.is_isomorphic(l1,l2):\n",
    "                        can_rep = True\n",
    "                        if verbose == True:\n",
    "                            print(\"Can find a protocomplementation and V to represent lattice via Def. 3.5.1.\")\n",
    "                            print(f\"The subset V is: {V}\")\n",
    "                            print(f\"The protocomplementation is: {f}\")\n",
    "                            print(f\"The compatibility relation from Def. 3.5(i) is: {comp}\")\n",
    "                            print(\"\\n\")\n",
    "                        break\n",
    "            if can_rep == True:\n",
    "                break\n",
    "        \n",
    "    if can_rep == False:\n",
    "        print(\"Can't find a protocomplementation and V to represent lattice via Def. 3.5(i).\")\n",
    "        print(\"\\n\")"
   ]
  },
  {
   "cell_type": "code",
   "execution_count": null,
   "id": "c2726758",
   "metadata": {},
   "outputs": [],
   "source": [
    "for n in range(5,7):\n",
    "    for rel in comp_frames_for_lats_size[n]:\n",
    "        represent_lat_using_proto(rel)"
   ]
  },
  {
   "cell_type": "markdown",
   "id": "dfa6b5a2",
   "metadata": {},
   "source": [
    "### Example"
   ]
  },
  {
   "cell_type": "code",
   "execution_count": null,
   "id": "c94a5019",
   "metadata": {},
   "outputs": [],
   "source": [
    "rel = [(0, 2), (2, 0), (0, 3), (4, 0), (2, 1), (1, 3), (3, 1), (4, 1), (4, 2), (4, 3), (0, 0), (1, 1), (2, 2), (3, 3), (4, 4)]\n",
    "# The fixpoint lattice L of this rel admits only one protocomplementation, \n",
    "# which sends every nonzero element to zero. \n",
    "print(protocomps(fixpoints(rel),range(5)))\n",
    "print(\"\\n\")\n",
    "\n",
    "represent_lat_using_proto(rel)\n",
    "# We cannot represent L as in Def. 3.5(i) by taking neg to be the one protocomplementation.\n",
    "\n",
    "represent_lat(rel)\n",
    "# But we can represent L as in Def. 3.5(i) by taking neg to be another anti-inflationary operation."
   ]
  },
  {
   "cell_type": "markdown",
   "id": "b076a2f1",
   "metadata": {},
   "source": [
    "## III.III Checking whether $(L,\\neg)$ can arise from a compatibiltiy frame <a id='III.II'></a>\n",
    "\n",
    "So far, we have concentrated on the representation of lattices. Appenix A.1 concerns the representation of lattice expansions $(L,\\neg)$. That is, given a lattice $L$ and protocomplementation $\\neg$ on $L$, we seek a compatibility frame $(X,\\vartriangleleft)$ such that $(L,\\neg)$ is isomorphic to $(\\mathfrak{L}(X,\\vartriangleleft),\\neg_\\vartriangleleft)$."
   ]
  },
  {
   "cell_type": "code",
   "execution_count": null,
   "id": "3953fbb9",
   "metadata": {},
   "outputs": [],
   "source": [
    "def search_for_iso(targets,realized):\n",
    "    \"\"\"checks whether each lattice expansion in targets is isomorphic to some lattice expansion in realized\"\"\"\n",
    "    count = -1\n",
    "    for l in targets:\n",
    "        count += 1\n",
    "        i = len(l.nodes)\n",
    "        canrealize = False\n",
    "        for l2 in realized:\n",
    "            if nx.is_isomorphic(l,l2):\n",
    "                    canrealize = True\n",
    "                    print(f\"Can realize this lattice expansion (#{count}) of size {i}.\")\n",
    "                    break\n",
    "        if canrealize == False:\n",
    "                print(f\"Can't realize this lattice expansion (#{count}) of size {i}:\")\n",
    "                coveredges = [(x,y) for (x,y,d) in l.edges(data=True) if d[\"weight\"]==0]\n",
    "                negedges = [(x,y) for (x,y,d) in l.edges(data=True) if d[\"weight\"]==1]\n",
    "                print(f\"Covering relation: {coveredges}\")\n",
    "                print(f\"Neg operation: {negedges}\")\n",
    "                display_lattice_with_neg(l)"
   ]
  },
  {
   "cell_type": "code",
   "execution_count": null,
   "id": "6aae0e21",
   "metadata": {},
   "outputs": [],
   "source": [
    "def search_for_iso_keep_rels(targets,realized):\n",
    "    \"\"\"same as above but saves the relation that represents the target lattice expansion\"\"\"\n",
    "    count = -1\n",
    "    rel_realizers = {}\n",
    "    for l in targets:\n",
    "        count += 1\n",
    "        i = len(l.nodes)\n",
    "        canrealize = False\n",
    "        for pair in realized:\n",
    "            l2 = pair[1]\n",
    "            if nx.is_isomorphic(l,l2):\n",
    "                    canrealize = True\n",
    "                    print(f\"Can realize this lattice expansion (#{count}) of size {i}.\")\n",
    "                    rel_realizers[l] = pair[0]\n",
    "                    break\n",
    "        \n",
    "        if canrealize == False:\n",
    "                print(f\"Can't realize this lattice expansion (#{count}) of size {i}:\")\n",
    "                coveredges = [(x,y) for (x,y,d) in l.edges(data=True) if d[\"weight\"]==0]\n",
    "                negedges = [(x,y) for (x,y,d) in l.edges(data=True) if d[\"weight\"]==1]\n",
    "                print(f\"Covering relation: {coveredges}\")\n",
    "                print(f\"Neg operation: {negedges}\")\n",
    "                display_lattice_with_neg(l)\n",
    "                \n",
    "    return rel_realizers"
   ]
  },
  {
   "cell_type": "markdown",
   "id": "4288fc12",
   "metadata": {},
   "source": [
    "### Example with an expansion of $\\mathbf{M}_3$"
   ]
  },
  {
   "cell_type": "markdown",
   "id": "b5a0e991",
   "metadata": {},
   "source": [
    "For example, below we generate every expansion up to isomorphism of the $\\mathbf{M}_3$ lattice with a protocomplementation. Recall that $\\mathbf{M}_3$ arises as the lattice of fixpoints of a cycle on 3 elements."
   ]
  },
  {
   "cell_type": "code",
   "execution_count": null,
   "id": "717b085e",
   "metadata": {},
   "outputs": [],
   "source": [
    "M3_expansions = expand_with_protocomps(fixpoints(reflexive_closure([(0,1),(1,2),(2,0)],range(3))),range(3))\n",
    "\n",
    "for l in M3_expansions:\n",
    "    \n",
    "    coveredges = [(x,y) for (x,y,d) in l.edges(data=True) if d[\"weight\"]==0]\n",
    "    negedges = [(x,y) for (x,y,d) in l.edges(data=True) if d[\"weight\"]==1]\n",
    "    print(f\"Covering relation: {coveredges}\")\n",
    "    print(f\"Neg operation: {negedges}\")\n",
    "    display_lattice_with_neg(l)"
   ]
  },
  {
   "cell_type": "markdown",
   "id": "6a00db07",
   "metadata": {},
   "source": [
    "Next we check if every expansion of the 5-element $\\mathbf{M}_3$ lattice with a protocomplementation $\\neg$ can be represented by a 4-element compatibility frame."
   ]
  },
  {
   "cell_type": "code",
   "execution_count": null,
   "id": "d3d9e862",
   "metadata": {},
   "outputs": [],
   "source": [
    "search_for_iso(M3_expansions,lattices_with_neg_from_comp_frames_size[4])"
   ]
  },
  {
   "cell_type": "code",
   "execution_count": null,
   "id": "454fdce8",
   "metadata": {},
   "outputs": [],
   "source": [
    "# Displaying the last expansion of M3 that is not representable by any 4-element compatibility frame\n",
    "\n",
    "M3exp = M3_expansions[6]\n",
    "\n",
    "display_lattice_with_neg(M3exp)"
   ]
  },
  {
   "cell_type": "markdown",
   "id": "b3632997",
   "metadata": {},
   "source": [
    "Next we find a 5-element compatibility frame that realizes the desired expansion of $\\mathbf{M}_3$. Instead of performing the search with the next two cells, which takes several minutes, one can uncomment rel_for_M3exp in the third cell below."
   ]
  },
  {
   "cell_type": "code",
   "execution_count": null,
   "id": "d53028f0",
   "metadata": {},
   "outputs": [],
   "source": [
    "lats_with_neg_keep_rels_from_comp_frames_size_5 = lattices_with_neg_keep_rels(comp_frames_size(5))\n",
    "# Can skip this and uncomment rel_for_M3exp below"
   ]
  },
  {
   "cell_type": "code",
   "execution_count": null,
   "id": "54350999",
   "metadata": {},
   "outputs": [],
   "source": [
    "rel_for_M3exp = search_for_iso_keep_rels([M3exp],lats_with_neg_keep_rels_from_comp_frames_size_5)[M3exp]\n",
    "print(\"\\n\")\n",
    "print(f\"Representing relation: {rel_for_M3exp}\")"
   ]
  },
  {
   "cell_type": "code",
   "execution_count": null,
   "id": "1236d158",
   "metadata": {},
   "outputs": [],
   "source": [
    "# Here is the 5-element compatibility frame that realizes the desired expansion of M3\n",
    "\n",
    "print(\"Representing compatibility frame:\")\n",
    "\n",
    "# rel_for_M3exp = [(0, 2), (2, 0), (0, 3), (3, 0), (4, 0), (1, 2), (2, 1), (3, 1), (1, 4), (4, 1), (2, 3), (2, 4), (3, 4), (4, 3), (0, 0), (1, 1), (2, 2), (3, 3), (4, 4)]\n",
    "\n",
    "draw_flipped_digraph(rel_for_M3exp)\n",
    "\n",
    "print(\"Fixpoint lattice:\")\n",
    "l = lattice_with_neg(rel_for_M3exp)\n",
    "\n",
    "coveredges = [(x,y) for (x,y,d) in l.edges(data=True) if d[\"weight\"]==0]\n",
    "negedges = [(x,y) for (x,y,d) in l.edges(data=True) if d[\"weight\"]==1]\n",
    "\n",
    "pos = nx.spring_layout(l)\n",
    "nx.draw_networkx_nodes(l,pos)\n",
    "nx.draw_networkx_edges(l, pos, edgelist=coveredges)\n",
    "nx.draw_networkx_edges(l, pos, edgelist=negedges,style=\"dashed\",connectionstyle=\"arc3,rad=0.1\")\n",
    "plt.show() \n",
    "\n",
    "print(\"Check if isomorphic to the desired expansion of M3:\")\n",
    "print(nx.is_isomorphic(l,M3exp))\n"
   ]
  },
  {
   "cell_type": "markdown",
   "id": "1757e2bc",
   "metadata": {},
   "source": [
    "### Lattice expansions of size $\\leq 5$\n",
    "\n",
    "We now show that all lattices of size $\\leq 5$ expanded with a protocomplementation can be represented by compatibility frames of size $\\leq 5$."
   ]
  },
  {
   "cell_type": "code",
   "execution_count": null,
   "id": "f5e558d4",
   "metadata": {},
   "outputs": [],
   "source": [
    "m = 5 # the size of the lattice expansions\n",
    "\n",
    "comp_frames_for_lats_size_leq_m = [pair[0] for pair in lattices_keep_rels(comp_frames_size(m-1)) if len(fixpoints(pair[0]))<= m]\n",
    "# instead of running over all of comp_frames(m-1)\n",
    "# we just use the graphs that we know are sufficient to generate all lattices of size \\leq m up to isomorphism\n",
    "\n",
    "fxpts_lats = [fixpoints(d) for d in comp_frames_for_lats_size_leq_m]\n",
    "\n",
    "lats_size_leq_m_plus_protocomps = expand_all_with_protocomps(fxpts_lats,range(m-1))"
   ]
  },
  {
   "cell_type": "code",
   "execution_count": null,
   "id": "daf738de",
   "metadata": {},
   "outputs": [],
   "source": [
    "print(\"Number of lattice expansions up to iso from adding a protocomplementation to a lattice of size <=m:\")\n",
    "print(len(lats_size_leq_m_plus_protocomps))\n",
    "\n",
    "print(\"Number of lattice expansions up to iso of size <=m arising from compatibility frames of size <=m:\")\n",
    "lats_size_leq_m_with_neg_from_comp_frames_size_leq_m = [l for l in lattices_with_neg_from_comp_frames_size[m] if len(l.nodes) <= m]\n",
    "print(len(lats_size_leq_m_with_neg_from_comp_frames_size_leq_m))"
   ]
  },
  {
   "cell_type": "code",
   "execution_count": null,
   "id": "3d66803d",
   "metadata": {},
   "outputs": [],
   "source": [
    "search_for_iso_keep_rels(lats_size_leq_m_plus_protocomps,lats_with_neg_keep_rels_from_comp_frames_size_5)"
   ]
  },
  {
   "cell_type": "markdown",
   "id": "4828a2c4",
   "metadata": {},
   "source": [
    "### Lattice expansions of size 6\n",
    "\n",
    "Finally, we show there is one lattice of size $6$ expanded with a protocomplementation that cannot be represented by a compatibility frame of size $\\leq 6$, for which it suffices show that it cannot be represented by any compatibility frame of size 6."
   ]
  },
  {
   "cell_type": "code",
   "execution_count": null,
   "id": "7c28f40f",
   "metadata": {},
   "outputs": [],
   "source": [
    "comp_frames_for_lats_size_6 = [pair[0] for pair in lattices_keep_rels(comp_frames_size(5)) if len(fixpoints(pair[0])) == 6]\n",
    "\n",
    "fxpts_lats_6 = [fixpoints(d) for d in comp_frames_for_lats_size_6]\n",
    "\n",
    "lats_size_6_plus_protocomps = expand_all_with_protocomps(fxpts_lats_6,range(5))"
   ]
  },
  {
   "cell_type": "code",
   "execution_count": null,
   "id": "addcd6ac",
   "metadata": {},
   "outputs": [],
   "source": [
    "print(\"Number of lattice expansions up to iso from adding a protocomplementation to a lattice of size 6:\")\n",
    "print(len(lats_size_6_plus_protocomps))"
   ]
  },
  {
   "cell_type": "markdown",
   "id": "9ed968e7",
   "metadata": {},
   "source": [
    "On my machine with digraph6.txt available, I applied the following function to comp_frames_size(6), 6. This computes all the lattices up to size 6 with negation up to isomorphism that arise from compatibility frames of size 6, saving the compatibility frame for each lattice. I then stored the list of compatibility frames in the file comp_frames_size_6_up_to_iso_of_lats_with_neg_size_6.pkl, which is in the generated directory."
   ]
  },
  {
   "cell_type": "code",
   "execution_count": null,
   "id": "14d00e3c",
   "metadata": {},
   "outputs": [],
   "source": [
    "def rels_for_lattices_with_neg_of_size(rels,n):\n",
    "    \"\"\"given a collection rels of relations, \n",
    "    only keeps those relations that give rise to \n",
    "    non-isomorphic fixpoints lattices of size n with neg operation\"\"\" \n",
    "\n",
    "    kept_rels = []\n",
    "    lats = []\n",
    "\n",
    "    for rel in tqdm(rels):\n",
    "        l = lattice_with_neg(rel)\n",
    "        if len(l.nodes) == n:\n",
    "            newlat = True\n",
    "            for l2 in lats:\n",
    "                if nx.is_isomorphic(l,l2):\n",
    "                    newlat = False\n",
    "                    break\n",
    "            if newlat:\n",
    "                kept_rels.append(rel)\n",
    "                lats.append(l)\n",
    "    \n",
    "    return kept_rels"
   ]
  },
  {
   "cell_type": "code",
   "execution_count": null,
   "id": "5c37eefb",
   "metadata": {},
   "outputs": [],
   "source": [
    "#comp_frames_size_6_up_to_iso_of_lats_with_neg_size_6 = rels_for_lattices_with_neg_of_size(comp_frames_size(6),6)\n",
    "#pickle.dump(rels_6, open(\"comp_frames_size_6_up_to_iso_of_lats_with_neg_size_6\", \"wb\")) "
   ]
  },
  {
   "cell_type": "code",
   "execution_count": null,
   "id": "17392253",
   "metadata": {},
   "outputs": [],
   "source": [
    "comp_frames_size_6_up_to_iso_of_lats_with_neg_size_6 = pickle.load(open(\"generated/comp_frames_size_6_up_to_iso_of_lats_with_neg_size_6.pkl\", \"rb\"))"
   ]
  },
  {
   "cell_type": "code",
   "execution_count": null,
   "id": "aefca6cc",
   "metadata": {},
   "outputs": [],
   "source": [
    "print(\"Number of lattice expansions up to iso of size 6 arising from compatibility frames of size 6:\")\n",
    "lats_size_6_with_neg_from_comp_frames_size_6 = [lattice_with_neg(d) for d in comp_frames_size_6_up_to_iso_of_lats_with_neg_size_6]\n",
    "print(len(lats_size_6_with_neg_from_comp_frames_size_6))"
   ]
  },
  {
   "cell_type": "markdown",
   "id": "c60c6154",
   "metadata": {},
   "source": [
    "Below we display the one 6-element lattice with protocomplementation that does not arise from any compatibility frame of size 6."
   ]
  },
  {
   "cell_type": "code",
   "execution_count": null,
   "id": "841b6223",
   "metadata": {},
   "outputs": [],
   "source": [
    "for l in lats_size_6_plus_protocomps:\n",
    "    can_realize = False\n",
    "    for l2 in lats_size_6_with_neg_from_comp_frames_size_6:\n",
    "        if nx.is_isomorphic(l,l2): \n",
    "            can_realize = True\n",
    "            break\n",
    "            \n",
    "    if not can_realize:\n",
    "        display_lattice_with_neg(l)"
   ]
  }
 ],
 "metadata": {
  "kernelspec": {
   "display_name": "Python 3 (ipykernel)",
   "language": "python",
   "name": "python3"
  },
  "language_info": {
   "codemirror_mode": {
    "name": "ipython",
    "version": 3
   },
   "file_extension": ".py",
   "mimetype": "text/x-python",
   "name": "python",
   "nbconvert_exporter": "python",
   "pygments_lexer": "ipython3",
   "version": "3.9.9"
  }
 },
 "nbformat": 4,
 "nbformat_minor": 5
}
